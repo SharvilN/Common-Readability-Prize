{
 "metadata": {
  "language_info": {
   "codemirror_mode": {
    "name": "ipython",
    "version": 3
   },
   "file_extension": ".py",
   "mimetype": "text/x-python",
   "name": "python",
   "nbconvert_exporter": "python",
   "pygments_lexer": "ipython3",
   "version": "3.8.5"
  },
  "orig_nbformat": 2,
  "kernelspec": {
   "name": "python385jvsc74a57bd056116502312553628b202ef6fd47dd20ec7eb783a187db0ebe9f199a939a6d26",
   "display_name": "Python 3.8.5 64-bit ('kaggle': conda)"
  }
 },
 "nbformat": 4,
 "nbformat_minor": 2,
 "cells": [
  {
   "cell_type": "code",
   "execution_count": 30,
   "metadata": {},
   "outputs": [
    {
     "output_type": "execute_result",
     "data": {
      "text/plain": [
       "             id                                          url_legal    license  \\\n",
       "1439  e89267551  https://kids.frontiersin.org/article/10.3389/f...  CC BY 4.0   \n",
       "\n",
       "                                                excerpt    target  \\\n",
       "1439  While they may look similar, seagrasses are ve... -1.112677   \n",
       "\n",
       "      standard_error  n_sents  n_words  n_words_per_sent  n_unique_words  \\\n",
       "1439        0.460838     11.0    173.0         15.727273           103.0   \n",
       "\n",
       "      n_unique_words_per_sent  n_chars_per_word  n_syllables  \\\n",
       "1439                 9.363636          5.213873        234.0   \n",
       "\n",
       "      n_syllables_per_word  n_syllables_per_sent  n_monosyllable_words  \\\n",
       "1439              1.352601             21.272727                 126.0   \n",
       "\n",
       "      n_polysyllable_words  n_long_words  n_long_words_ratio   entropy  \\\n",
       "1439                  11.0          44.0            0.254335  6.402505   \n",
       "\n",
       "      automated_readability_index  coleman_liau_index  \\\n",
       "1439                    10.990977           12.974719   \n",
       "\n",
       "      flesch_kincaid_grade_level  flesch_reading_ease        lix  smog_index  \\\n",
       "1439                     6.50433             76.44176  40.076146    8.841846   \n",
       "\n",
       "      gunning_fog_index  avg_parse_tree_height  mean_parse_subtrees  \\\n",
       "1439           8.834262               6.454545             8.181818   \n",
       "\n",
       "      noun_chunks  noun_chunk_size  avg_noun_chunks  mean_noun_chunk_size  \\\n",
       "1439           62         1.435484         5.636364              0.254683   \n",
       "\n",
       "      nouns_per_word  proper_nouns_per_word  pronouns_per_word  adj_per_word  \\\n",
       "1439        0.302885               0.019231           0.009615      0.038462   \n",
       "\n",
       "      adv_per_word  verbs_per_word  cconj_per_word  sconj_per_word   spacy_0  \\\n",
       "1439      0.033654        0.129808        0.052885        0.009615 -0.043039   \n",
       "\n",
       "       spacy_1   spacy_2   spacy_3  spacy_4   spacy_5   spacy_6   spacy_7  \\\n",
       "1439  0.151716 -0.199124 -0.106118  0.02623  0.041226 -0.076073  0.034287   \n",
       "\n",
       "       spacy_8   spacy_9  spacy_10  spacy_11  spacy_12  spacy_13  spacy_14  \\\n",
       "1439 -0.158423  1.804362 -0.142988  0.097155  0.141896 -0.013693 -0.103503   \n",
       "\n",
       "      spacy_15  spacy_16  spacy_17  spacy_18  spacy_19  spacy_20  spacy_21  \\\n",
       "1439  0.028457  0.002887  1.220301 -0.167356 -0.140182 -0.012038  0.034841   \n",
       "\n",
       "      spacy_22  spacy_23  spacy_24  spacy_25  spacy_26  spacy_27  spacy_28  \\\n",
       "1439 -0.143984  0.020785  -0.06232 -0.011325 -0.096334  0.036457  0.075496   \n",
       "\n",
       "      spacy_29  spacy_30  spacy_31  spacy_32  spacy_33  spacy_34  spacy_35  \\\n",
       "1439 -0.114031 -0.064829  0.037037 -0.049937 -0.033435  0.100536  0.010713   \n",
       "\n",
       "      spacy_36  spacy_37  spacy_38  spacy_39  spacy_40  spacy_41  spacy_42  \\\n",
       "1439  0.025863  0.073352 -0.014676 -0.116855 -0.022568  0.056494  0.014677   \n",
       "\n",
       "      spacy_43  spacy_44  spacy_45  spacy_46  spacy_47  spacy_48  spacy_49  \\\n",
       "1439 -0.080597  0.076393  0.009182 -0.134389 -0.055068  0.034949   0.03084   \n",
       "\n",
       "      spacy_50  spacy_51  spacy_52  spacy_53  spacy_54  spacy_55  spacy_56  \\\n",
       "1439  0.038023 -0.005959  0.032365  0.016053   0.07201 -0.132276 -0.011284   \n",
       "\n",
       "      spacy_57  spacy_58  spacy_59  spacy_60  spacy_61  spacy_62  spacy_63  \\\n",
       "1439 -0.082845 -0.019102  0.036225  0.069544  0.024754 -0.023552   0.23284   \n",
       "\n",
       "      spacy_64  spacy_65  spacy_66  spacy_67  spacy_68  spacy_69  spacy_70  \\\n",
       "1439 -0.025254 -0.183212 -0.044677  0.055048 -0.003266  0.048361 -0.071347   \n",
       "\n",
       "      spacy_71  spacy_72  spacy_73  spacy_74  spacy_75  spacy_76  spacy_77  \\\n",
       "1439  0.187529  0.136951  0.038046  0.002372 -0.031137  0.035358  0.028867   \n",
       "\n",
       "      spacy_78  spacy_79  spacy_80  spacy_81  spacy_82  spacy_83  spacy_84  \\\n",
       "1439  0.084818 -0.070313  0.029965  0.132919 -0.142646 -0.076737  0.009677   \n",
       "\n",
       "      spacy_85  spacy_86  spacy_87  spacy_88  spacy_89  spacy_90  spacy_91  \\\n",
       "1439 -0.399236  0.088621  0.134726  0.039684  0.152311 -0.042345  0.064982   \n",
       "\n",
       "      spacy_92  spacy_93  spacy_94  spacy_95  spacy_96  spacy_97  spacy_98  \\\n",
       "1439  0.054198  0.090503  0.114592  0.021666 -0.040066 -0.036617 -0.148567   \n",
       "\n",
       "      spacy_99  spacy_100  spacy_101  spacy_102  spacy_103  spacy_104  \\\n",
       "1439 -0.110593   0.017136  -0.029992  -0.164339  -0.087325   0.020755   \n",
       "\n",
       "      spacy_105  spacy_106  spacy_107  spacy_108  spacy_109  spacy_110  \\\n",
       "1439  -0.876554   0.058848   0.064198   0.077889   0.045991    0.00091   \n",
       "\n",
       "      spacy_111  spacy_112  spacy_113  spacy_114  spacy_115  spacy_116  \\\n",
       "1439  -0.078998   0.004807  -0.047475  -0.023235  -0.044244    0.00957   \n",
       "\n",
       "      spacy_117  spacy_118  spacy_119  spacy_120  spacy_121  spacy_122  \\\n",
       "1439   0.010716  -0.038028  -0.018126   0.014202  -0.005144   0.031839   \n",
       "\n",
       "      spacy_123  spacy_124  spacy_125  spacy_126  spacy_127  spacy_128  \\\n",
       "1439  -0.095442  -0.070854  -0.000827   0.094871  -0.073337   0.086317   \n",
       "\n",
       "      spacy_129  spacy_130  spacy_131  spacy_132  spacy_133  spacy_134  \\\n",
       "1439   0.074541   0.033343  -0.101268  -0.027054   0.094593   0.079522   \n",
       "\n",
       "      spacy_135  spacy_136  spacy_137  spacy_138  spacy_139  spacy_140  \\\n",
       "1439    0.09308   0.038098  -0.044748    0.07138   0.033009  -0.775451   \n",
       "\n",
       "      spacy_141  spacy_142  spacy_143  spacy_144  spacy_145  spacy_146  \\\n",
       "1439   0.120617   0.091695   0.008499  -0.021636   0.091566  -0.047969   \n",
       "\n",
       "      spacy_147  spacy_148  spacy_149  spacy_150  spacy_151  spacy_152  \\\n",
       "1439  -0.055314   0.068683   0.019989  -0.016856   0.046498   0.251413   \n",
       "\n",
       "      spacy_153  spacy_154  spacy_155  spacy_156  spacy_157  spacy_158  \\\n",
       "1439   0.089972  -0.216992   0.075739  -0.082167   0.044609   -0.07903   \n",
       "\n",
       "      spacy_159  spacy_160  spacy_161  spacy_162  spacy_163  spacy_164  \\\n",
       "1439   0.067234   0.083628  -0.009623   -0.06363   0.013279  -0.068714   \n",
       "\n",
       "      spacy_165  spacy_166  spacy_167  spacy_168  spacy_169  spacy_170  \\\n",
       "1439   -0.09761   0.104251   -0.08088   0.164281   0.017867   0.060388   \n",
       "\n",
       "      spacy_171  spacy_172  spacy_173  spacy_174  spacy_175  spacy_176  \\\n",
       "1439   0.008908  -0.014427   0.010198  -0.097031    0.07734   0.021443   \n",
       "\n",
       "      spacy_177  spacy_178  spacy_179  spacy_180  spacy_181  spacy_182  \\\n",
       "1439   0.046479   0.078567  -0.130304    0.02936   0.041248  -0.107478   \n",
       "\n",
       "      spacy_183  spacy_184  spacy_185  spacy_186  spacy_187  spacy_188  \\\n",
       "1439  -0.069905  -0.000987  -0.104618  -0.094314  -0.063381   0.017378   \n",
       "\n",
       "      spacy_189  spacy_190  spacy_191  spacy_192  spacy_193  spacy_194  \\\n",
       "1439  -0.047243   0.054126   0.072861  -0.089688  -0.000269  -0.004586   \n",
       "\n",
       "      spacy_195  spacy_196  spacy_197  spacy_198  spacy_199  spacy_200  \\\n",
       "1439   0.129864  -0.021651   0.032069  -0.157135   0.184474  -0.088857   \n",
       "\n",
       "      spacy_201  spacy_202  spacy_203  spacy_204  spacy_205  spacy_206  \\\n",
       "1439  -0.062919  -0.018933   0.072961   0.230118   0.032759   0.121659   \n",
       "\n",
       "      spacy_207  spacy_208  spacy_209  spacy_210  spacy_211  spacy_212  \\\n",
       "1439   0.078955    0.00124  -0.146355  -0.122883  -0.061221  -0.020337   \n",
       "\n",
       "      spacy_213  spacy_214  spacy_215  spacy_216  spacy_217  spacy_218  \\\n",
       "1439  -0.223664   0.001549   0.022176   0.025173   0.026718  -0.076628   \n",
       "\n",
       "      spacy_219  spacy_220  spacy_221  spacy_222  spacy_223  spacy_224  \\\n",
       "1439  -0.122208  -0.007374   0.000264   0.056008   0.047141   0.063154   \n",
       "\n",
       "      spacy_225  spacy_226  spacy_227  spacy_228  spacy_229  spacy_230  \\\n",
       "1439   0.032805   0.091905   0.092557  -0.081262   0.126788  -0.007391   \n",
       "\n",
       "      spacy_231  spacy_232  spacy_233  spacy_234  spacy_235  spacy_236  \\\n",
       "1439  -0.085647    0.13531   0.161159  -0.101017  -0.024188  -0.010726   \n",
       "\n",
       "      spacy_237  spacy_238  spacy_239  spacy_240  spacy_241  spacy_242  \\\n",
       "1439  -0.076691   0.050707   0.077301  -0.021612   0.009621  -0.122155   \n",
       "\n",
       "      spacy_243  spacy_244  spacy_245  spacy_246  spacy_247  spacy_248  \\\n",
       "1439  -0.015246   0.071708  -0.083903  -0.227176  -0.151158  -0.128045   \n",
       "\n",
       "      spacy_249  spacy_250  spacy_251  spacy_252  spacy_253  spacy_254  \\\n",
       "1439   0.037384   0.014304  -0.033286   0.003461  -0.032115   0.086483   \n",
       "\n",
       "      spacy_255  spacy_256  spacy_257  spacy_258  spacy_259  spacy_260  \\\n",
       "1439   0.263198      0.165  -0.010041   0.062061     0.0216   0.051473   \n",
       "\n",
       "      spacy_261  spacy_262  spacy_263  spacy_264  spacy_265  spacy_266  \\\n",
       "1439   0.066935  -0.017001   0.131018   0.088009  -0.017767  -0.026283   \n",
       "\n",
       "      spacy_267  spacy_268  spacy_269  spacy_270  spacy_271  spacy_272  \\\n",
       "1439  -0.049696   0.221959   0.016865   0.092512  -0.074313  -0.012652   \n",
       "\n",
       "      spacy_273  spacy_274  spacy_275  spacy_276  spacy_277  spacy_278  \\\n",
       "1439  -0.159294  -0.084521  -0.078282  -0.063543    0.18687  -0.074438   \n",
       "\n",
       "      spacy_279  spacy_280  spacy_281  spacy_282  spacy_283  spacy_284  \\\n",
       "1439   0.188811   0.203862  -0.012937   0.015626  -0.153889  -0.030161   \n",
       "\n",
       "      spacy_285  spacy_286  spacy_287  spacy_288  spacy_289  spacy_290  \\\n",
       "1439   0.016109   0.142848  -0.137347   0.248057  -0.108827  -0.202607   \n",
       "\n",
       "      spacy_291  spacy_292  spacy_293  spacy_294  spacy_295  spacy_296  \\\n",
       "1439  -0.015357   0.002372  -0.186296  -0.208514   0.113994  -0.033889   \n",
       "\n",
       "      spacy_297  spacy_298  spacy_299  kfold  \n",
       "1439  -0.119704  -0.052913   0.004427      2  "
      ],
      "text/html": "<div>\n<style scoped>\n    .dataframe tbody tr th:only-of-type {\n        vertical-align: middle;\n    }\n\n    .dataframe tbody tr th {\n        vertical-align: top;\n    }\n\n    .dataframe thead th {\n        text-align: right;\n    }\n</style>\n<table border=\"1\" class=\"dataframe\">\n  <thead>\n    <tr style=\"text-align: right;\">\n      <th></th>\n      <th>id</th>\n      <th>url_legal</th>\n      <th>license</th>\n      <th>excerpt</th>\n      <th>target</th>\n      <th>standard_error</th>\n      <th>n_sents</th>\n      <th>n_words</th>\n      <th>n_words_per_sent</th>\n      <th>n_unique_words</th>\n      <th>n_unique_words_per_sent</th>\n      <th>n_chars_per_word</th>\n      <th>n_syllables</th>\n      <th>n_syllables_per_word</th>\n      <th>n_syllables_per_sent</th>\n      <th>n_monosyllable_words</th>\n      <th>n_polysyllable_words</th>\n      <th>n_long_words</th>\n      <th>n_long_words_ratio</th>\n      <th>entropy</th>\n      <th>automated_readability_index</th>\n      <th>coleman_liau_index</th>\n      <th>flesch_kincaid_grade_level</th>\n      <th>flesch_reading_ease</th>\n      <th>lix</th>\n      <th>smog_index</th>\n      <th>gunning_fog_index</th>\n      <th>avg_parse_tree_height</th>\n      <th>mean_parse_subtrees</th>\n      <th>noun_chunks</th>\n      <th>noun_chunk_size</th>\n      <th>avg_noun_chunks</th>\n      <th>mean_noun_chunk_size</th>\n      <th>nouns_per_word</th>\n      <th>proper_nouns_per_word</th>\n      <th>pronouns_per_word</th>\n      <th>adj_per_word</th>\n      <th>adv_per_word</th>\n      <th>verbs_per_word</th>\n      <th>cconj_per_word</th>\n      <th>sconj_per_word</th>\n      <th>spacy_0</th>\n      <th>spacy_1</th>\n      <th>spacy_2</th>\n      <th>spacy_3</th>\n      <th>spacy_4</th>\n      <th>spacy_5</th>\n      <th>spacy_6</th>\n      <th>spacy_7</th>\n      <th>spacy_8</th>\n      <th>spacy_9</th>\n      <th>spacy_10</th>\n      <th>spacy_11</th>\n      <th>spacy_12</th>\n      <th>spacy_13</th>\n      <th>spacy_14</th>\n      <th>spacy_15</th>\n      <th>spacy_16</th>\n      <th>spacy_17</th>\n      <th>spacy_18</th>\n      <th>spacy_19</th>\n      <th>spacy_20</th>\n      <th>spacy_21</th>\n      <th>spacy_22</th>\n      <th>spacy_23</th>\n      <th>spacy_24</th>\n      <th>spacy_25</th>\n      <th>spacy_26</th>\n      <th>spacy_27</th>\n      <th>spacy_28</th>\n      <th>spacy_29</th>\n      <th>spacy_30</th>\n      <th>spacy_31</th>\n      <th>spacy_32</th>\n      <th>spacy_33</th>\n      <th>spacy_34</th>\n      <th>spacy_35</th>\n      <th>spacy_36</th>\n      <th>spacy_37</th>\n      <th>spacy_38</th>\n      <th>spacy_39</th>\n      <th>spacy_40</th>\n      <th>spacy_41</th>\n      <th>spacy_42</th>\n      <th>spacy_43</th>\n      <th>spacy_44</th>\n      <th>spacy_45</th>\n      <th>spacy_46</th>\n      <th>spacy_47</th>\n      <th>spacy_48</th>\n      <th>spacy_49</th>\n      <th>spacy_50</th>\n      <th>spacy_51</th>\n      <th>spacy_52</th>\n      <th>spacy_53</th>\n      <th>spacy_54</th>\n      <th>spacy_55</th>\n      <th>spacy_56</th>\n      <th>spacy_57</th>\n      <th>spacy_58</th>\n      <th>spacy_59</th>\n      <th>spacy_60</th>\n      <th>spacy_61</th>\n      <th>spacy_62</th>\n      <th>spacy_63</th>\n      <th>spacy_64</th>\n      <th>spacy_65</th>\n      <th>spacy_66</th>\n      <th>spacy_67</th>\n      <th>spacy_68</th>\n      <th>spacy_69</th>\n      <th>spacy_70</th>\n      <th>spacy_71</th>\n      <th>spacy_72</th>\n      <th>spacy_73</th>\n      <th>spacy_74</th>\n      <th>spacy_75</th>\n      <th>spacy_76</th>\n      <th>spacy_77</th>\n      <th>spacy_78</th>\n      <th>spacy_79</th>\n      <th>spacy_80</th>\n      <th>spacy_81</th>\n      <th>spacy_82</th>\n      <th>spacy_83</th>\n      <th>spacy_84</th>\n      <th>spacy_85</th>\n      <th>spacy_86</th>\n      <th>spacy_87</th>\n      <th>spacy_88</th>\n      <th>spacy_89</th>\n      <th>spacy_90</th>\n      <th>spacy_91</th>\n      <th>spacy_92</th>\n      <th>spacy_93</th>\n      <th>spacy_94</th>\n      <th>spacy_95</th>\n      <th>spacy_96</th>\n      <th>spacy_97</th>\n      <th>spacy_98</th>\n      <th>spacy_99</th>\n      <th>spacy_100</th>\n      <th>spacy_101</th>\n      <th>spacy_102</th>\n      <th>spacy_103</th>\n      <th>spacy_104</th>\n      <th>spacy_105</th>\n      <th>spacy_106</th>\n      <th>spacy_107</th>\n      <th>spacy_108</th>\n      <th>spacy_109</th>\n      <th>spacy_110</th>\n      <th>spacy_111</th>\n      <th>spacy_112</th>\n      <th>spacy_113</th>\n      <th>spacy_114</th>\n      <th>spacy_115</th>\n      <th>spacy_116</th>\n      <th>spacy_117</th>\n      <th>spacy_118</th>\n      <th>spacy_119</th>\n      <th>spacy_120</th>\n      <th>spacy_121</th>\n      <th>spacy_122</th>\n      <th>spacy_123</th>\n      <th>spacy_124</th>\n      <th>spacy_125</th>\n      <th>spacy_126</th>\n      <th>spacy_127</th>\n      <th>spacy_128</th>\n      <th>spacy_129</th>\n      <th>spacy_130</th>\n      <th>spacy_131</th>\n      <th>spacy_132</th>\n      <th>spacy_133</th>\n      <th>spacy_134</th>\n      <th>spacy_135</th>\n      <th>spacy_136</th>\n      <th>spacy_137</th>\n      <th>spacy_138</th>\n      <th>spacy_139</th>\n      <th>spacy_140</th>\n      <th>spacy_141</th>\n      <th>spacy_142</th>\n      <th>spacy_143</th>\n      <th>spacy_144</th>\n      <th>spacy_145</th>\n      <th>spacy_146</th>\n      <th>spacy_147</th>\n      <th>spacy_148</th>\n      <th>spacy_149</th>\n      <th>spacy_150</th>\n      <th>spacy_151</th>\n      <th>spacy_152</th>\n      <th>spacy_153</th>\n      <th>spacy_154</th>\n      <th>spacy_155</th>\n      <th>spacy_156</th>\n      <th>spacy_157</th>\n      <th>spacy_158</th>\n      <th>spacy_159</th>\n      <th>spacy_160</th>\n      <th>spacy_161</th>\n      <th>spacy_162</th>\n      <th>spacy_163</th>\n      <th>spacy_164</th>\n      <th>spacy_165</th>\n      <th>spacy_166</th>\n      <th>spacy_167</th>\n      <th>spacy_168</th>\n      <th>spacy_169</th>\n      <th>spacy_170</th>\n      <th>spacy_171</th>\n      <th>spacy_172</th>\n      <th>spacy_173</th>\n      <th>spacy_174</th>\n      <th>spacy_175</th>\n      <th>spacy_176</th>\n      <th>spacy_177</th>\n      <th>spacy_178</th>\n      <th>spacy_179</th>\n      <th>spacy_180</th>\n      <th>spacy_181</th>\n      <th>spacy_182</th>\n      <th>spacy_183</th>\n      <th>spacy_184</th>\n      <th>spacy_185</th>\n      <th>spacy_186</th>\n      <th>spacy_187</th>\n      <th>spacy_188</th>\n      <th>spacy_189</th>\n      <th>spacy_190</th>\n      <th>spacy_191</th>\n      <th>spacy_192</th>\n      <th>spacy_193</th>\n      <th>spacy_194</th>\n      <th>spacy_195</th>\n      <th>spacy_196</th>\n      <th>spacy_197</th>\n      <th>spacy_198</th>\n      <th>spacy_199</th>\n      <th>spacy_200</th>\n      <th>spacy_201</th>\n      <th>spacy_202</th>\n      <th>spacy_203</th>\n      <th>spacy_204</th>\n      <th>spacy_205</th>\n      <th>spacy_206</th>\n      <th>spacy_207</th>\n      <th>spacy_208</th>\n      <th>spacy_209</th>\n      <th>spacy_210</th>\n      <th>spacy_211</th>\n      <th>spacy_212</th>\n      <th>spacy_213</th>\n      <th>spacy_214</th>\n      <th>spacy_215</th>\n      <th>spacy_216</th>\n      <th>spacy_217</th>\n      <th>spacy_218</th>\n      <th>spacy_219</th>\n      <th>spacy_220</th>\n      <th>spacy_221</th>\n      <th>spacy_222</th>\n      <th>spacy_223</th>\n      <th>spacy_224</th>\n      <th>spacy_225</th>\n      <th>spacy_226</th>\n      <th>spacy_227</th>\n      <th>spacy_228</th>\n      <th>spacy_229</th>\n      <th>spacy_230</th>\n      <th>spacy_231</th>\n      <th>spacy_232</th>\n      <th>spacy_233</th>\n      <th>spacy_234</th>\n      <th>spacy_235</th>\n      <th>spacy_236</th>\n      <th>spacy_237</th>\n      <th>spacy_238</th>\n      <th>spacy_239</th>\n      <th>spacy_240</th>\n      <th>spacy_241</th>\n      <th>spacy_242</th>\n      <th>spacy_243</th>\n      <th>spacy_244</th>\n      <th>spacy_245</th>\n      <th>spacy_246</th>\n      <th>spacy_247</th>\n      <th>spacy_248</th>\n      <th>spacy_249</th>\n      <th>spacy_250</th>\n      <th>spacy_251</th>\n      <th>spacy_252</th>\n      <th>spacy_253</th>\n      <th>spacy_254</th>\n      <th>spacy_255</th>\n      <th>spacy_256</th>\n      <th>spacy_257</th>\n      <th>spacy_258</th>\n      <th>spacy_259</th>\n      <th>spacy_260</th>\n      <th>spacy_261</th>\n      <th>spacy_262</th>\n      <th>spacy_263</th>\n      <th>spacy_264</th>\n      <th>spacy_265</th>\n      <th>spacy_266</th>\n      <th>spacy_267</th>\n      <th>spacy_268</th>\n      <th>spacy_269</th>\n      <th>spacy_270</th>\n      <th>spacy_271</th>\n      <th>spacy_272</th>\n      <th>spacy_273</th>\n      <th>spacy_274</th>\n      <th>spacy_275</th>\n      <th>spacy_276</th>\n      <th>spacy_277</th>\n      <th>spacy_278</th>\n      <th>spacy_279</th>\n      <th>spacy_280</th>\n      <th>spacy_281</th>\n      <th>spacy_282</th>\n      <th>spacy_283</th>\n      <th>spacy_284</th>\n      <th>spacy_285</th>\n      <th>spacy_286</th>\n      <th>spacy_287</th>\n      <th>spacy_288</th>\n      <th>spacy_289</th>\n      <th>spacy_290</th>\n      <th>spacy_291</th>\n      <th>spacy_292</th>\n      <th>spacy_293</th>\n      <th>spacy_294</th>\n      <th>spacy_295</th>\n      <th>spacy_296</th>\n      <th>spacy_297</th>\n      <th>spacy_298</th>\n      <th>spacy_299</th>\n      <th>kfold</th>\n    </tr>\n  </thead>\n  <tbody>\n    <tr>\n      <th>1439</th>\n      <td>e89267551</td>\n      <td>https://kids.frontiersin.org/article/10.3389/f...</td>\n      <td>CC BY 4.0</td>\n      <td>While they may look similar, seagrasses are ve...</td>\n      <td>-1.112677</td>\n      <td>0.460838</td>\n      <td>11.0</td>\n      <td>173.0</td>\n      <td>15.727273</td>\n      <td>103.0</td>\n      <td>9.363636</td>\n      <td>5.213873</td>\n      <td>234.0</td>\n      <td>1.352601</td>\n      <td>21.272727</td>\n      <td>126.0</td>\n      <td>11.0</td>\n      <td>44.0</td>\n      <td>0.254335</td>\n      <td>6.402505</td>\n      <td>10.990977</td>\n      <td>12.974719</td>\n      <td>6.50433</td>\n      <td>76.44176</td>\n      <td>40.076146</td>\n      <td>8.841846</td>\n      <td>8.834262</td>\n      <td>6.454545</td>\n      <td>8.181818</td>\n      <td>62</td>\n      <td>1.435484</td>\n      <td>5.636364</td>\n      <td>0.254683</td>\n      <td>0.302885</td>\n      <td>0.019231</td>\n      <td>0.009615</td>\n      <td>0.038462</td>\n      <td>0.033654</td>\n      <td>0.129808</td>\n      <td>0.052885</td>\n      <td>0.009615</td>\n      <td>-0.043039</td>\n      <td>0.151716</td>\n      <td>-0.199124</td>\n      <td>-0.106118</td>\n      <td>0.02623</td>\n      <td>0.041226</td>\n      <td>-0.076073</td>\n      <td>0.034287</td>\n      <td>-0.158423</td>\n      <td>1.804362</td>\n      <td>-0.142988</td>\n      <td>0.097155</td>\n      <td>0.141896</td>\n      <td>-0.013693</td>\n      <td>-0.103503</td>\n      <td>0.028457</td>\n      <td>0.002887</td>\n      <td>1.220301</td>\n      <td>-0.167356</td>\n      <td>-0.140182</td>\n      <td>-0.012038</td>\n      <td>0.034841</td>\n      <td>-0.143984</td>\n      <td>0.020785</td>\n      <td>-0.06232</td>\n      <td>-0.011325</td>\n      <td>-0.096334</td>\n      <td>0.036457</td>\n      <td>0.075496</td>\n      <td>-0.114031</td>\n      <td>-0.064829</td>\n      <td>0.037037</td>\n      <td>-0.049937</td>\n      <td>-0.033435</td>\n      <td>0.100536</td>\n      <td>0.010713</td>\n      <td>0.025863</td>\n      <td>0.073352</td>\n      <td>-0.014676</td>\n      <td>-0.116855</td>\n      <td>-0.022568</td>\n      <td>0.056494</td>\n      <td>0.014677</td>\n      <td>-0.080597</td>\n      <td>0.076393</td>\n      <td>0.009182</td>\n      <td>-0.134389</td>\n      <td>-0.055068</td>\n      <td>0.034949</td>\n      <td>0.03084</td>\n      <td>0.038023</td>\n      <td>-0.005959</td>\n      <td>0.032365</td>\n      <td>0.016053</td>\n      <td>0.07201</td>\n      <td>-0.132276</td>\n      <td>-0.011284</td>\n      <td>-0.082845</td>\n      <td>-0.019102</td>\n      <td>0.036225</td>\n      <td>0.069544</td>\n      <td>0.024754</td>\n      <td>-0.023552</td>\n      <td>0.23284</td>\n      <td>-0.025254</td>\n      <td>-0.183212</td>\n      <td>-0.044677</td>\n      <td>0.055048</td>\n      <td>-0.003266</td>\n      <td>0.048361</td>\n      <td>-0.071347</td>\n      <td>0.187529</td>\n      <td>0.136951</td>\n      <td>0.038046</td>\n      <td>0.002372</td>\n      <td>-0.031137</td>\n      <td>0.035358</td>\n      <td>0.028867</td>\n      <td>0.084818</td>\n      <td>-0.070313</td>\n      <td>0.029965</td>\n      <td>0.132919</td>\n      <td>-0.142646</td>\n      <td>-0.076737</td>\n      <td>0.009677</td>\n      <td>-0.399236</td>\n      <td>0.088621</td>\n      <td>0.134726</td>\n      <td>0.039684</td>\n      <td>0.152311</td>\n      <td>-0.042345</td>\n      <td>0.064982</td>\n      <td>0.054198</td>\n      <td>0.090503</td>\n      <td>0.114592</td>\n      <td>0.021666</td>\n      <td>-0.040066</td>\n      <td>-0.036617</td>\n      <td>-0.148567</td>\n      <td>-0.110593</td>\n      <td>0.017136</td>\n      <td>-0.029992</td>\n      <td>-0.164339</td>\n      <td>-0.087325</td>\n      <td>0.020755</td>\n      <td>-0.876554</td>\n      <td>0.058848</td>\n      <td>0.064198</td>\n      <td>0.077889</td>\n      <td>0.045991</td>\n      <td>0.00091</td>\n      <td>-0.078998</td>\n      <td>0.004807</td>\n      <td>-0.047475</td>\n      <td>-0.023235</td>\n      <td>-0.044244</td>\n      <td>0.00957</td>\n      <td>0.010716</td>\n      <td>-0.038028</td>\n      <td>-0.018126</td>\n      <td>0.014202</td>\n      <td>-0.005144</td>\n      <td>0.031839</td>\n      <td>-0.095442</td>\n      <td>-0.070854</td>\n      <td>-0.000827</td>\n      <td>0.094871</td>\n      <td>-0.073337</td>\n      <td>0.086317</td>\n      <td>0.074541</td>\n      <td>0.033343</td>\n      <td>-0.101268</td>\n      <td>-0.027054</td>\n      <td>0.094593</td>\n      <td>0.079522</td>\n      <td>0.09308</td>\n      <td>0.038098</td>\n      <td>-0.044748</td>\n      <td>0.07138</td>\n      <td>0.033009</td>\n      <td>-0.775451</td>\n      <td>0.120617</td>\n      <td>0.091695</td>\n      <td>0.008499</td>\n      <td>-0.021636</td>\n      <td>0.091566</td>\n      <td>-0.047969</td>\n      <td>-0.055314</td>\n      <td>0.068683</td>\n      <td>0.019989</td>\n      <td>-0.016856</td>\n      <td>0.046498</td>\n      <td>0.251413</td>\n      <td>0.089972</td>\n      <td>-0.216992</td>\n      <td>0.075739</td>\n      <td>-0.082167</td>\n      <td>0.044609</td>\n      <td>-0.07903</td>\n      <td>0.067234</td>\n      <td>0.083628</td>\n      <td>-0.009623</td>\n      <td>-0.06363</td>\n      <td>0.013279</td>\n      <td>-0.068714</td>\n      <td>-0.09761</td>\n      <td>0.104251</td>\n      <td>-0.08088</td>\n      <td>0.164281</td>\n      <td>0.017867</td>\n      <td>0.060388</td>\n      <td>0.008908</td>\n      <td>-0.014427</td>\n      <td>0.010198</td>\n      <td>-0.097031</td>\n      <td>0.07734</td>\n      <td>0.021443</td>\n      <td>0.046479</td>\n      <td>0.078567</td>\n      <td>-0.130304</td>\n      <td>0.02936</td>\n      <td>0.041248</td>\n      <td>-0.107478</td>\n      <td>-0.069905</td>\n      <td>-0.000987</td>\n      <td>-0.104618</td>\n      <td>-0.094314</td>\n      <td>-0.063381</td>\n      <td>0.017378</td>\n      <td>-0.047243</td>\n      <td>0.054126</td>\n      <td>0.072861</td>\n      <td>-0.089688</td>\n      <td>-0.000269</td>\n      <td>-0.004586</td>\n      <td>0.129864</td>\n      <td>-0.021651</td>\n      <td>0.032069</td>\n      <td>-0.157135</td>\n      <td>0.184474</td>\n      <td>-0.088857</td>\n      <td>-0.062919</td>\n      <td>-0.018933</td>\n      <td>0.072961</td>\n      <td>0.230118</td>\n      <td>0.032759</td>\n      <td>0.121659</td>\n      <td>0.078955</td>\n      <td>0.00124</td>\n      <td>-0.146355</td>\n      <td>-0.122883</td>\n      <td>-0.061221</td>\n      <td>-0.020337</td>\n      <td>-0.223664</td>\n      <td>0.001549</td>\n      <td>0.022176</td>\n      <td>0.025173</td>\n      <td>0.026718</td>\n      <td>-0.076628</td>\n      <td>-0.122208</td>\n      <td>-0.007374</td>\n      <td>0.000264</td>\n      <td>0.056008</td>\n      <td>0.047141</td>\n      <td>0.063154</td>\n      <td>0.032805</td>\n      <td>0.091905</td>\n      <td>0.092557</td>\n      <td>-0.081262</td>\n      <td>0.126788</td>\n      <td>-0.007391</td>\n      <td>-0.085647</td>\n      <td>0.13531</td>\n      <td>0.161159</td>\n      <td>-0.101017</td>\n      <td>-0.024188</td>\n      <td>-0.010726</td>\n      <td>-0.076691</td>\n      <td>0.050707</td>\n      <td>0.077301</td>\n      <td>-0.021612</td>\n      <td>0.009621</td>\n      <td>-0.122155</td>\n      <td>-0.015246</td>\n      <td>0.071708</td>\n      <td>-0.083903</td>\n      <td>-0.227176</td>\n      <td>-0.151158</td>\n      <td>-0.128045</td>\n      <td>0.037384</td>\n      <td>0.014304</td>\n      <td>-0.033286</td>\n      <td>0.003461</td>\n      <td>-0.032115</td>\n      <td>0.086483</td>\n      <td>0.263198</td>\n      <td>0.165</td>\n      <td>-0.010041</td>\n      <td>0.062061</td>\n      <td>0.0216</td>\n      <td>0.051473</td>\n      <td>0.066935</td>\n      <td>-0.017001</td>\n      <td>0.131018</td>\n      <td>0.088009</td>\n      <td>-0.017767</td>\n      <td>-0.026283</td>\n      <td>-0.049696</td>\n      <td>0.221959</td>\n      <td>0.016865</td>\n      <td>0.092512</td>\n      <td>-0.074313</td>\n      <td>-0.012652</td>\n      <td>-0.159294</td>\n      <td>-0.084521</td>\n      <td>-0.078282</td>\n      <td>-0.063543</td>\n      <td>0.18687</td>\n      <td>-0.074438</td>\n      <td>0.188811</td>\n      <td>0.203862</td>\n      <td>-0.012937</td>\n      <td>0.015626</td>\n      <td>-0.153889</td>\n      <td>-0.030161</td>\n      <td>0.016109</td>\n      <td>0.142848</td>\n      <td>-0.137347</td>\n      <td>0.248057</td>\n      <td>-0.108827</td>\n      <td>-0.202607</td>\n      <td>-0.015357</td>\n      <td>0.002372</td>\n      <td>-0.186296</td>\n      <td>-0.208514</td>\n      <td>0.113994</td>\n      <td>-0.033889</td>\n      <td>-0.119704</td>\n      <td>-0.052913</td>\n      <td>0.004427</td>\n      <td>2</td>\n    </tr>\n  </tbody>\n</table>\n</div>"
     },
     "metadata": {},
     "execution_count": 30
    }
   ],
   "source": [
    "import pandas as pd\n",
    "import spacy\n",
    "\n",
    "pd.set_option('display.max_columns', 500)\n",
    "\n",
    "df = pd.read_csv('../data/processed/non-nn-processed-v1-folds.csv')\n",
    "df.sample(1)"
   ]
  },
  {
   "cell_type": "code",
   "execution_count": 60,
   "metadata": {},
   "outputs": [
    {
     "output_type": "execute_result",
     "data": {
      "text/plain": [
       "excerpt    As far as I am concerned, I have already been ...\n",
       "n_sents                                                  9.0\n",
       "Name: 1100, dtype: object"
      ]
     },
     "metadata": {},
     "execution_count": 60
    }
   ],
   "source": [
    "df.loc[1100][['excerpt', 'n_sents']]\n"
   ]
  },
  {
   "cell_type": "code",
   "execution_count": 57,
   "metadata": {},
   "outputs": [
    {
     "output_type": "execute_result",
     "data": {
      "text/plain": [
       "'As far as I am concerned, I have already been able, during a previous trip, to fully appreciate the noble virtues of the American Nation, and I am happy to take this opportunity to express all the admiration with which they inspire me.Ever since her independence was first established, Belgium has been declared neutral in perpetuity. This neutrality, guaranteed by the powers, has recently been violated by one of them. Had we consented to abandon our neutrality for the benefit of one of the belligerents, we would have betrayed our obligations toward the others. And it was the sense of our international obligations as well as that of our dignity and honor that has driven us to resistance.The consequences suffered by the Belgian Nation were not confined purely to the harm occasioned by the forced march of an invading army. This army not only seized a great portion of our territory, but it committed incredible acts of violence, the nature of which is contrary to the law of nations.'"
      ]
     },
     "metadata": {},
     "execution_count": 57
    }
   ],
   "source": [
    "\n",
    "\n",
    "preproc(a)"
   ]
  },
  {
   "cell_type": "code",
   "execution_count": null,
   "metadata": {},
   "outputs": [],
   "source": []
  },
  {
   "cell_type": "code",
   "execution_count": 68,
   "metadata": {},
   "outputs": [],
   "source": [
    "import spacy\n",
    "nlp = spacy.load('en_core_web_sm')\n",
    "doc = nlp(df.loc[1100]['excerpt'])"
   ]
  },
  {
   "cell_type": "code",
   "execution_count": 69,
   "metadata": {},
   "outputs": [
    {
     "output_type": "execute_result",
     "data": {
      "text/plain": [
       "9"
      ]
     },
     "metadata": {},
     "execution_count": 69
    }
   ],
   "source": [
    "len(list(doc.sents))"
   ]
  },
  {
   "cell_type": "code",
   "execution_count": 70,
   "metadata": {},
   "outputs": [
    {
     "output_type": "execute_result",
     "data": {
      "text/plain": [
       "7"
      ]
     },
     "metadata": {},
     "execution_count": 70
    }
   ],
   "source": [
    "a = df.loc[1100]['excerpt']\n",
    "import re\n",
    "a = re.sub('\\n', ' ', a)\n",
    "doc1 = nlp(a)\n",
    "len(list(doc1.sents))\n"
   ]
  },
  {
   "cell_type": "code",
   "execution_count": 72,
   "metadata": {},
   "outputs": [
    {
     "output_type": "execute_result",
     "data": {
      "text/plain": [
       "'the endless trough conveyer is one of the latest applications of link-belting, consisting primarily of a heavy chain belt carried over a pair of wheels, and in the intermediate space a truck on which the train runs. this chain or belt is provided with pans which, as they overlap, form an endless trough. power being applied to revolve one of the wheels, the whole belt is thereby set in motion and at once becomes an endless trough conveyer. the accompanying engraving illustrates a section of this conveyer. a few of the pans are removed, to show the construction of the links; and above this a link and coupler are shown on a larger scale. as will be seen, the link is provided with wings, to form a rigid support for the pan to be riveted to it. to reduce friction each link is provided with three rollers, as will be seen in the engraving. this outfit makes a fireproof conveyer which will handle hot ore from roasting kiln to crusher, and convey coal, broken stone, or other gritty and coarse material.'"
      ]
     },
     "metadata": {},
     "execution_count": 72
    }
   ],
   "source": [
    "import re\n",
    "from textacy import preprocessing\n",
    "\n",
    "preproc = preprocessing.make_pipeline(\n",
    "    preprocessing.normalize.unicode,\n",
    "    preprocessing.normalize.whitespace,\n",
    "    preprocessing.remove.accents\n",
    ")\n",
    "\n",
    "def preprocess(text):\n",
    "    text = text.lower()\n",
    "    pattern = '\\n'\n",
    "    text = re.sub(pattern, ' ', text)\n",
    "    text = preproc(text)\n",
    "    return text\n",
    "\n",
    "\n",
    "preprocess(df.loc[10]['excerpt'])"
   ]
  },
  {
   "cell_type": "code",
   "execution_count": 103,
   "metadata": {},
   "outputs": [
    {
     "output_type": "execute_result",
     "data": {
      "text/plain": [
       "          id                                          url_legal       license  \\\n",
       "0  bacdd6a73                  https://www.africanstorybook.org/     CC BY 4.0   \n",
       "1  6c021c53c  https://freekidsbooks.org/wp-content/uploads/2...      CC-BY-NC   \n",
       "2  e3809434d  http://static.ehe.osu.edu/sites/beyond/penguin...  CC BY-SA 3.0   \n",
       "3  6d91d7382                                                NaN           NaN   \n",
       "4  71b1c3766                                                NaN           NaN   \n",
       "\n",
       "                                             excerpt    target  \\\n",
       "0  Once upon a time, there lived a prince who had...  0.642449   \n",
       "1  Daisies are the most fun flowers to draw. Smal... -0.391499   \n",
       "2  But Mt. Erebus isn’t just a mountain. It is a ...  0.851171   \n",
       "3  The conditions of the problem were finally ful... -2.836401   \n",
       "4  Mabel lives on a hill, quite near a beautiful ...  0.902661   \n",
       "\n",
       "   standard_error                               preprocessed_excerpt  n_sents  \\\n",
       "0        0.500603  Once upon a time, there lived a prince who had...     16.0   \n",
       "1        0.465128  Daisies are the most fun flowers to draw. Smal...     19.0   \n",
       "2        0.581775  But Mt. Erebus isn’t just a mountain. It is a ...     22.0   \n",
       "3        0.561008  The conditions of the problem were finally ful...      7.0   \n",
       "4        0.528381  Mabel lives on a hill, quite near a beautiful ...     10.0   \n",
       "\n",
       "   n_words  n_words_per_sent  n_unique_words  n_unique_words_per_sent  \\\n",
       "0    195.0         12.187500           119.0                 7.437500   \n",
       "1    184.0          9.684211            99.0                 5.210526   \n",
       "2    193.0          8.772727            98.0                 4.454545   \n",
       "3    151.0         21.571429            92.0                13.142857   \n",
       "4    191.0         19.100000           108.0                10.800000   \n",
       "\n",
       "   n_chars_per_word  n_syllables  n_syllables_per_word  n_syllables_per_sent  \\\n",
       "0          4.282051        238.0              1.220513             14.875000   \n",
       "1          4.206522        235.0              1.277174             12.368421   \n",
       "2          3.932642        227.0              1.176166             10.318182   \n",
       "3          4.503311        199.0              1.317881             28.428571   \n",
       "4          3.649215        214.0              1.120419             21.400000   \n",
       "\n",
       "   n_monosyllable_words  n_polysyllable_words  n_long_words  \\\n",
       "0                 163.0                   9.0          27.0   \n",
       "1                 143.0                   9.0          25.0   \n",
       "2                 162.0                   3.0          22.0   \n",
       "3                 118.0                  13.0          26.0   \n",
       "4                 170.0                   2.0          10.0   \n",
       "\n",
       "   n_long_words_ratio   entropy  n_longest_sent  \\\n",
       "0            0.138462  6.471032            26.0   \n",
       "1            0.135870  6.226676            22.0   \n",
       "2            0.113990  6.210372            21.0   \n",
       "3            0.172185  6.131395            50.0   \n",
       "4            0.052356  6.336698            42.0   \n",
       "\n",
       "   longest_sent_and_unique_words  automated_readability_index  \\\n",
       "0                         3094.0                     4.832212   \n",
       "1                         2178.0                     3.224823   \n",
       "2                         2058.0                     1.479110   \n",
       "3                         4600.0                    10.566310   \n",
       "4                         4536.0                     5.307801   \n",
       "\n",
       "   coleman_liau_index  flesch_kincaid_grade_level  flesch_reading_ease  \\\n",
       "0            6.949345                    3.565176            91.209303   \n",
       "1            5.877709                    3.257494            88.956613   \n",
       "2            3.949905                    1.710120            98.427055   \n",
       "3            9.306399                    8.373851            73.447285   \n",
       "4            4.106962                    5.079942            92.661065   \n",
       "\n",
       "         lix  smog_index  gunning_fog_index  avg_parse_tree_height  \\\n",
       "0  26.219538    7.413660           6.721154               5.466667   \n",
       "1  23.006719    7.060882           5.830206               4.526316   \n",
       "2  20.009812    5.238671           4.130853               4.363636   \n",
       "3  41.493898   10.914261          12.072280               6.714286   \n",
       "4  26.072897    5.683918           8.058848               6.666667   \n",
       "\n",
       "   mean_parse_subtrees  noun_chunks  noun_chunk_size  avg_noun_chunks  \\\n",
       "0             6.533333           59         1.966102         3.687500   \n",
       "1             4.842105           52         1.846154         2.736842   \n",
       "2             4.636364           57         1.771930         2.590909   \n",
       "3            11.714286           41         2.292683         5.857143   \n",
       "4            10.222222           52         1.846154         5.200000   \n",
       "\n",
       "   mean_noun_chunk_size  nouns_per_word  proper_nouns_per_word  \\\n",
       "0              0.533180        0.244344               0.009050   \n",
       "1              0.674556        0.221698               0.051887   \n",
       "2              0.683903        0.233945               0.045872   \n",
       "3              0.391434        0.289617               0.005464   \n",
       "4              0.355030        0.162162               0.018018   \n",
       "\n",
       "   pronouns_per_word  adj_per_word  adv_per_word  verbs_per_word  \\\n",
       "0           0.090498      0.031674      0.036199        0.140271   \n",
       "1           0.018868      0.094340      0.023585        0.089623   \n",
       "2           0.041284      0.036697      0.050459        0.077982   \n",
       "3           0.005464      0.065574      0.027322        0.065574   \n",
       "4           0.090090      0.072072      0.049550        0.135135   \n",
       "\n",
       "   cconj_per_word  sconj_per_word   spacy_0   spacy_1   spacy_2   spacy_3  \\\n",
       "0        0.027149        0.009050  0.402812 -0.009424 -0.228321 -0.066287   \n",
       "1        0.037736        0.004717  0.219292  0.050158  0.035341 -0.005167   \n",
       "2        0.027523        0.018349  0.365891 -0.011650  0.056289  0.078862   \n",
       "3        0.032787        0.000000  0.231056  0.126341 -0.009531 -0.124736   \n",
       "4        0.036036        0.022523  0.200625 -0.049676 -0.048101 -0.114461   \n",
       "\n",
       "    spacy_4   spacy_5   spacy_6   spacy_7   spacy_8   spacy_9  spacy_10  \\\n",
       "0  0.174672  0.048032 -0.290524  0.179049  0.285991 -0.374627 -0.051537   \n",
       "1  0.080403  0.043797 -0.222771  0.061566  0.382687 -0.281962 -0.060621   \n",
       "2  0.224753 -0.096525 -0.244417  0.036426  0.366870 -0.426471  0.010982   \n",
       "3  0.073496  0.070035 -0.094607  0.147535  0.304410 -0.234952 -0.108157   \n",
       "4  0.218337  0.042613 -0.126933  0.029157  0.340073 -0.254878 -0.010368   \n",
       "\n",
       "   spacy_11  spacy_12  spacy_13  spacy_14  spacy_15  spacy_16  spacy_17  \\\n",
       "0 -0.061294 -0.150723 -0.113851 -0.153719  0.069108  0.099957 -0.124998   \n",
       "1 -0.008076 -0.000269 -0.032111 -0.061420  0.137527 -0.004595 -0.116610   \n",
       "2 -0.063869 -0.084155 -0.157270 -0.123685  0.127389  0.056506 -0.107192   \n",
       "3  0.114623 -0.143367 -0.146277 -0.064969  0.079846 -0.020743 -0.080799   \n",
       "4 -0.038907 -0.119987 -0.081938 -0.211047  0.072040 -0.038104 -0.133405   \n",
       "\n",
       "   spacy_18  spacy_19  spacy_20  spacy_21  spacy_22  spacy_23  spacy_24  \\\n",
       "0  0.128258 -0.045183 -0.248867  0.331411  0.040419 -0.118734 -0.466402   \n",
       "1  0.205761 -0.168727 -0.066642  0.163629 -0.000928 -0.024461 -0.354073   \n",
       "2  0.291638 -0.090950 -0.086227  0.288878 -0.031010  0.041066 -0.360577   \n",
       "3  0.247562 -0.057434 -0.024383 -0.041154 -0.187308  0.027324 -0.508988   \n",
       "4  0.104924 -0.095963 -0.143242  0.148534  0.033325 -0.132498 -0.386965   \n",
       "\n",
       "   spacy_25  spacy_26  spacy_27  spacy_28  spacy_29  spacy_30  spacy_31  \\\n",
       "0  0.058599 -0.120924 -0.019181  0.129134  0.332499 -0.139736 -0.138862   \n",
       "1  0.253161 -0.189743  0.166079  0.032622  0.222306 -0.312108 -0.091798   \n",
       "2  0.238385 -0.154710  0.020755  0.051807  0.112174 -0.285860 -0.042906   \n",
       "3 -0.027737 -0.017577  0.350200 -0.093915  0.005371 -0.304202 -0.213588   \n",
       "4 -0.007824 -0.193695  0.190702  0.079824  0.336794 -0.208567  0.009495   \n",
       "\n",
       "   spacy_32  spacy_33  spacy_34  spacy_35  spacy_36  spacy_37  spacy_38  \\\n",
       "0  0.080563 -0.318130  0.333558 -0.047224  0.171797  0.040408  0.091201   \n",
       "1  0.059886 -0.357223  0.092412  0.021393  0.170280  0.055559  0.034316   \n",
       "2 -0.076016 -0.370464  0.090288  0.031674  0.068605  0.131565  0.112294   \n",
       "3  0.109575 -0.169578  0.429600 -0.001851 -0.004653 -0.125400 -0.009815   \n",
       "4  0.136907 -0.340653  0.375739 -0.037450  0.272780 -0.006450  0.183592   \n",
       "\n",
       "   spacy_39  spacy_40  spacy_41  spacy_42  spacy_43  spacy_44  spacy_45  \\\n",
       "0  0.158644 -0.112203  0.066468 -0.022246  0.031952 -0.071949 -0.008883   \n",
       "1  0.216739 -0.069773 -0.006144 -0.122632 -0.036529 -0.054470 -0.041872   \n",
       "2  0.166295 -0.180625  0.053339 -0.159843 -0.078930 -0.123204 -0.024856   \n",
       "3  0.188407  0.089334 -0.048069 -0.049600  0.231269 -0.119463 -0.164766   \n",
       "4  0.263828  0.018735 -0.107039  0.123045  0.034138 -0.105934 -0.139445   \n",
       "\n",
       "   spacy_46  spacy_47  spacy_48  spacy_49  spacy_50  spacy_51  spacy_52  \\\n",
       "0 -0.056082  0.093161 -0.163745 -0.048533  0.305935  0.092239 -0.242869   \n",
       "1  0.277712 -0.105711 -0.214065 -0.036746  0.184139  0.042523 -0.228121   \n",
       "2  0.070749  0.049945 -0.216434 -0.045812  0.237464  0.006052 -0.336768   \n",
       "3  0.141736 -0.016393 -0.209394  0.178578  0.306553  0.185004 -0.213244   \n",
       "4 -0.036712 -0.123828 -0.182063 -0.071576  0.199366  0.144151 -0.285756   \n",
       "\n",
       "   spacy_53  spacy_54  spacy_55  spacy_56  spacy_57  spacy_58  spacy_59  \\\n",
       "0 -0.090964  0.011304  0.296530  0.045025  0.249794  0.096564  0.037061   \n",
       "1 -0.161310  0.219773  0.158021 -0.021790  0.040371  0.208131  0.427999   \n",
       "2 -0.134092  0.109671  0.190486 -0.105937  0.146102  0.155717  0.269296   \n",
       "3 -0.032654  0.070559  0.059282 -0.068000  0.002505  0.120844  0.453902   \n",
       "4 -0.087352 -0.054137  0.076882  0.047244  0.036853  0.126270  0.212638   \n",
       "\n",
       "   spacy_60  spacy_61  spacy_62  spacy_63  spacy_64  spacy_65  spacy_66  \\\n",
       "0  0.016135 -0.235264 -0.282123 -0.123696  0.022652 -0.043871  0.064292   \n",
       "1  0.007918 -0.146033 -0.209438 -0.122308  0.153403 -0.022232 -0.038322   \n",
       "2  0.054597 -0.232702 -0.143264 -0.280687  0.128478 -0.024227  0.025453   \n",
       "3 -0.280640 -0.223303  0.152819 -0.220306  0.089068 -0.055022  0.034706   \n",
       "4 -0.052323 -0.106855 -0.141981 -0.038321  0.263139  0.018647 -0.108964   \n",
       "\n",
       "   spacy_67  spacy_68  spacy_69  spacy_70  spacy_71  spacy_72  spacy_73  \\\n",
       "0 -0.307750 -0.014154  0.246344  0.230933 -0.038462  0.054293 -0.179458   \n",
       "1 -0.055458  0.065093  0.090922  0.263704 -0.141641 -0.042187 -0.140390   \n",
       "2 -0.101295  0.202264  0.265494  0.281896 -0.097190  0.004418 -0.240198   \n",
       "3 -0.168091  0.109954  0.218576  0.202615 -0.197762  0.102190  0.070875   \n",
       "4 -0.255293  0.030264  0.275071  0.273157 -0.122822  0.044102 -0.198115   \n",
       "\n",
       "   spacy_74  spacy_75  spacy_76  spacy_77  spacy_78  spacy_79  spacy_80  \\\n",
       "0 -0.275728 -0.148728  0.019921 -0.196206  0.106868  0.002481  0.146955   \n",
       "1 -0.321938  0.021591 -0.097399 -0.363187 -0.022144 -0.037109  0.065232   \n",
       "2 -0.153644 -0.020549 -0.030768 -0.305388 -0.094053 -0.011564  0.134951   \n",
       "3 -0.198280 -0.102559 -0.070816 -0.248123  0.090684 -0.048679 -0.124879   \n",
       "4 -0.180769 -0.048342 -0.094137 -0.256721  0.084433 -0.028439 -0.003228   \n",
       "\n",
       "   spacy_81  spacy_82  spacy_83  spacy_84  spacy_85  spacy_86  spacy_87  \\\n",
       "0  0.171340  0.022610 -0.027366 -0.095616 -0.238991  0.052562 -0.401772   \n",
       "1  0.165710  0.179373  0.110205 -0.118874 -0.233280 -0.206323 -0.375030   \n",
       "2  0.259768  0.206259  0.168463 -0.082742 -0.326569 -0.226700 -0.396385   \n",
       "3  0.261494  0.111124  0.085356 -0.107492 -0.186422 -0.262101 -0.213932   \n",
       "4  0.267733  0.029012  0.047910 -0.135070 -0.117445 -0.149736 -0.245169   \n",
       "\n",
       "   spacy_88  spacy_89  spacy_90  spacy_91  spacy_92  spacy_93  spacy_94  \\\n",
       "0 -0.091764 -0.228983 -0.082102  0.212284  0.064570  0.190078  0.229177   \n",
       "1 -0.190047 -0.250873 -0.239680  0.290466  0.093810  0.125587  0.067330   \n",
       "2 -0.153080 -0.171135 -0.086914  0.346505  0.100790  0.036173  0.117055   \n",
       "3 -0.281495 -0.196071 -0.049076  0.083756  0.353271  0.012196  0.085388   \n",
       "4 -0.088391 -0.122123 -0.081369  0.114829  0.146133  0.117382  0.102723   \n",
       "\n",
       "   spacy_95  \n",
       "0  0.006399  \n",
       "1 -0.101060  \n",
       "2 -0.190160  \n",
       "3 -0.084976  \n",
       "4 -0.148250  "
      ],
      "text/html": "<div>\n<style scoped>\n    .dataframe tbody tr th:only-of-type {\n        vertical-align: middle;\n    }\n\n    .dataframe tbody tr th {\n        vertical-align: top;\n    }\n\n    .dataframe thead th {\n        text-align: right;\n    }\n</style>\n<table border=\"1\" class=\"dataframe\">\n  <thead>\n    <tr style=\"text-align: right;\">\n      <th></th>\n      <th>id</th>\n      <th>url_legal</th>\n      <th>license</th>\n      <th>excerpt</th>\n      <th>target</th>\n      <th>standard_error</th>\n      <th>preprocessed_excerpt</th>\n      <th>n_sents</th>\n      <th>n_words</th>\n      <th>n_words_per_sent</th>\n      <th>n_unique_words</th>\n      <th>n_unique_words_per_sent</th>\n      <th>n_chars_per_word</th>\n      <th>n_syllables</th>\n      <th>n_syllables_per_word</th>\n      <th>n_syllables_per_sent</th>\n      <th>n_monosyllable_words</th>\n      <th>n_polysyllable_words</th>\n      <th>n_long_words</th>\n      <th>n_long_words_ratio</th>\n      <th>entropy</th>\n      <th>n_longest_sent</th>\n      <th>longest_sent_and_unique_words</th>\n      <th>automated_readability_index</th>\n      <th>coleman_liau_index</th>\n      <th>flesch_kincaid_grade_level</th>\n      <th>flesch_reading_ease</th>\n      <th>lix</th>\n      <th>smog_index</th>\n      <th>gunning_fog_index</th>\n      <th>avg_parse_tree_height</th>\n      <th>mean_parse_subtrees</th>\n      <th>noun_chunks</th>\n      <th>noun_chunk_size</th>\n      <th>avg_noun_chunks</th>\n      <th>mean_noun_chunk_size</th>\n      <th>nouns_per_word</th>\n      <th>proper_nouns_per_word</th>\n      <th>pronouns_per_word</th>\n      <th>adj_per_word</th>\n      <th>adv_per_word</th>\n      <th>verbs_per_word</th>\n      <th>cconj_per_word</th>\n      <th>sconj_per_word</th>\n      <th>spacy_0</th>\n      <th>spacy_1</th>\n      <th>spacy_2</th>\n      <th>spacy_3</th>\n      <th>spacy_4</th>\n      <th>spacy_5</th>\n      <th>spacy_6</th>\n      <th>spacy_7</th>\n      <th>spacy_8</th>\n      <th>spacy_9</th>\n      <th>spacy_10</th>\n      <th>spacy_11</th>\n      <th>spacy_12</th>\n      <th>spacy_13</th>\n      <th>spacy_14</th>\n      <th>spacy_15</th>\n      <th>spacy_16</th>\n      <th>spacy_17</th>\n      <th>spacy_18</th>\n      <th>spacy_19</th>\n      <th>spacy_20</th>\n      <th>spacy_21</th>\n      <th>spacy_22</th>\n      <th>spacy_23</th>\n      <th>spacy_24</th>\n      <th>spacy_25</th>\n      <th>spacy_26</th>\n      <th>spacy_27</th>\n      <th>spacy_28</th>\n      <th>spacy_29</th>\n      <th>spacy_30</th>\n      <th>spacy_31</th>\n      <th>spacy_32</th>\n      <th>spacy_33</th>\n      <th>spacy_34</th>\n      <th>spacy_35</th>\n      <th>spacy_36</th>\n      <th>spacy_37</th>\n      <th>spacy_38</th>\n      <th>spacy_39</th>\n      <th>spacy_40</th>\n      <th>spacy_41</th>\n      <th>spacy_42</th>\n      <th>spacy_43</th>\n      <th>spacy_44</th>\n      <th>spacy_45</th>\n      <th>spacy_46</th>\n      <th>spacy_47</th>\n      <th>spacy_48</th>\n      <th>spacy_49</th>\n      <th>spacy_50</th>\n      <th>spacy_51</th>\n      <th>spacy_52</th>\n      <th>spacy_53</th>\n      <th>spacy_54</th>\n      <th>spacy_55</th>\n      <th>spacy_56</th>\n      <th>spacy_57</th>\n      <th>spacy_58</th>\n      <th>spacy_59</th>\n      <th>spacy_60</th>\n      <th>spacy_61</th>\n      <th>spacy_62</th>\n      <th>spacy_63</th>\n      <th>spacy_64</th>\n      <th>spacy_65</th>\n      <th>spacy_66</th>\n      <th>spacy_67</th>\n      <th>spacy_68</th>\n      <th>spacy_69</th>\n      <th>spacy_70</th>\n      <th>spacy_71</th>\n      <th>spacy_72</th>\n      <th>spacy_73</th>\n      <th>spacy_74</th>\n      <th>spacy_75</th>\n      <th>spacy_76</th>\n      <th>spacy_77</th>\n      <th>spacy_78</th>\n      <th>spacy_79</th>\n      <th>spacy_80</th>\n      <th>spacy_81</th>\n      <th>spacy_82</th>\n      <th>spacy_83</th>\n      <th>spacy_84</th>\n      <th>spacy_85</th>\n      <th>spacy_86</th>\n      <th>spacy_87</th>\n      <th>spacy_88</th>\n      <th>spacy_89</th>\n      <th>spacy_90</th>\n      <th>spacy_91</th>\n      <th>spacy_92</th>\n      <th>spacy_93</th>\n      <th>spacy_94</th>\n      <th>spacy_95</th>\n    </tr>\n  </thead>\n  <tbody>\n    <tr>\n      <th>0</th>\n      <td>bacdd6a73</td>\n      <td>https://www.africanstorybook.org/</td>\n      <td>CC BY 4.0</td>\n      <td>Once upon a time, there lived a prince who had...</td>\n      <td>0.642449</td>\n      <td>0.500603</td>\n      <td>Once upon a time, there lived a prince who had...</td>\n      <td>16.0</td>\n      <td>195.0</td>\n      <td>12.187500</td>\n      <td>119.0</td>\n      <td>7.437500</td>\n      <td>4.282051</td>\n      <td>238.0</td>\n      <td>1.220513</td>\n      <td>14.875000</td>\n      <td>163.0</td>\n      <td>9.0</td>\n      <td>27.0</td>\n      <td>0.138462</td>\n      <td>6.471032</td>\n      <td>26.0</td>\n      <td>3094.0</td>\n      <td>4.832212</td>\n      <td>6.949345</td>\n      <td>3.565176</td>\n      <td>91.209303</td>\n      <td>26.219538</td>\n      <td>7.413660</td>\n      <td>6.721154</td>\n      <td>5.466667</td>\n      <td>6.533333</td>\n      <td>59</td>\n      <td>1.966102</td>\n      <td>3.687500</td>\n      <td>0.533180</td>\n      <td>0.244344</td>\n      <td>0.009050</td>\n      <td>0.090498</td>\n      <td>0.031674</td>\n      <td>0.036199</td>\n      <td>0.140271</td>\n      <td>0.027149</td>\n      <td>0.009050</td>\n      <td>0.402812</td>\n      <td>-0.009424</td>\n      <td>-0.228321</td>\n      <td>-0.066287</td>\n      <td>0.174672</td>\n      <td>0.048032</td>\n      <td>-0.290524</td>\n      <td>0.179049</td>\n      <td>0.285991</td>\n      <td>-0.374627</td>\n      <td>-0.051537</td>\n      <td>-0.061294</td>\n      <td>-0.150723</td>\n      <td>-0.113851</td>\n      <td>-0.153719</td>\n      <td>0.069108</td>\n      <td>0.099957</td>\n      <td>-0.124998</td>\n      <td>0.128258</td>\n      <td>-0.045183</td>\n      <td>-0.248867</td>\n      <td>0.331411</td>\n      <td>0.040419</td>\n      <td>-0.118734</td>\n      <td>-0.466402</td>\n      <td>0.058599</td>\n      <td>-0.120924</td>\n      <td>-0.019181</td>\n      <td>0.129134</td>\n      <td>0.332499</td>\n      <td>-0.139736</td>\n      <td>-0.138862</td>\n      <td>0.080563</td>\n      <td>-0.318130</td>\n      <td>0.333558</td>\n      <td>-0.047224</td>\n      <td>0.171797</td>\n      <td>0.040408</td>\n      <td>0.091201</td>\n      <td>0.158644</td>\n      <td>-0.112203</td>\n      <td>0.066468</td>\n      <td>-0.022246</td>\n      <td>0.031952</td>\n      <td>-0.071949</td>\n      <td>-0.008883</td>\n      <td>-0.056082</td>\n      <td>0.093161</td>\n      <td>-0.163745</td>\n      <td>-0.048533</td>\n      <td>0.305935</td>\n      <td>0.092239</td>\n      <td>-0.242869</td>\n      <td>-0.090964</td>\n      <td>0.011304</td>\n      <td>0.296530</td>\n      <td>0.045025</td>\n      <td>0.249794</td>\n      <td>0.096564</td>\n      <td>0.037061</td>\n      <td>0.016135</td>\n      <td>-0.235264</td>\n      <td>-0.282123</td>\n      <td>-0.123696</td>\n      <td>0.022652</td>\n      <td>-0.043871</td>\n      <td>0.064292</td>\n      <td>-0.307750</td>\n      <td>-0.014154</td>\n      <td>0.246344</td>\n      <td>0.230933</td>\n      <td>-0.038462</td>\n      <td>0.054293</td>\n      <td>-0.179458</td>\n      <td>-0.275728</td>\n      <td>-0.148728</td>\n      <td>0.019921</td>\n      <td>-0.196206</td>\n      <td>0.106868</td>\n      <td>0.002481</td>\n      <td>0.146955</td>\n      <td>0.171340</td>\n      <td>0.022610</td>\n      <td>-0.027366</td>\n      <td>-0.095616</td>\n      <td>-0.238991</td>\n      <td>0.052562</td>\n      <td>-0.401772</td>\n      <td>-0.091764</td>\n      <td>-0.228983</td>\n      <td>-0.082102</td>\n      <td>0.212284</td>\n      <td>0.064570</td>\n      <td>0.190078</td>\n      <td>0.229177</td>\n      <td>0.006399</td>\n    </tr>\n    <tr>\n      <th>1</th>\n      <td>6c021c53c</td>\n      <td>https://freekidsbooks.org/wp-content/uploads/2...</td>\n      <td>CC-BY-NC</td>\n      <td>Daisies are the most fun flowers to draw. Smal...</td>\n      <td>-0.391499</td>\n      <td>0.465128</td>\n      <td>Daisies are the most fun flowers to draw. Smal...</td>\n      <td>19.0</td>\n      <td>184.0</td>\n      <td>9.684211</td>\n      <td>99.0</td>\n      <td>5.210526</td>\n      <td>4.206522</td>\n      <td>235.0</td>\n      <td>1.277174</td>\n      <td>12.368421</td>\n      <td>143.0</td>\n      <td>9.0</td>\n      <td>25.0</td>\n      <td>0.135870</td>\n      <td>6.226676</td>\n      <td>22.0</td>\n      <td>2178.0</td>\n      <td>3.224823</td>\n      <td>5.877709</td>\n      <td>3.257494</td>\n      <td>88.956613</td>\n      <td>23.006719</td>\n      <td>7.060882</td>\n      <td>5.830206</td>\n      <td>4.526316</td>\n      <td>4.842105</td>\n      <td>52</td>\n      <td>1.846154</td>\n      <td>2.736842</td>\n      <td>0.674556</td>\n      <td>0.221698</td>\n      <td>0.051887</td>\n      <td>0.018868</td>\n      <td>0.094340</td>\n      <td>0.023585</td>\n      <td>0.089623</td>\n      <td>0.037736</td>\n      <td>0.004717</td>\n      <td>0.219292</td>\n      <td>0.050158</td>\n      <td>0.035341</td>\n      <td>-0.005167</td>\n      <td>0.080403</td>\n      <td>0.043797</td>\n      <td>-0.222771</td>\n      <td>0.061566</td>\n      <td>0.382687</td>\n      <td>-0.281962</td>\n      <td>-0.060621</td>\n      <td>-0.008076</td>\n      <td>-0.000269</td>\n      <td>-0.032111</td>\n      <td>-0.061420</td>\n      <td>0.137527</td>\n      <td>-0.004595</td>\n      <td>-0.116610</td>\n      <td>0.205761</td>\n      <td>-0.168727</td>\n      <td>-0.066642</td>\n      <td>0.163629</td>\n      <td>-0.000928</td>\n      <td>-0.024461</td>\n      <td>-0.354073</td>\n      <td>0.253161</td>\n      <td>-0.189743</td>\n      <td>0.166079</td>\n      <td>0.032622</td>\n      <td>0.222306</td>\n      <td>-0.312108</td>\n      <td>-0.091798</td>\n      <td>0.059886</td>\n      <td>-0.357223</td>\n      <td>0.092412</td>\n      <td>0.021393</td>\n      <td>0.170280</td>\n      <td>0.055559</td>\n      <td>0.034316</td>\n      <td>0.216739</td>\n      <td>-0.069773</td>\n      <td>-0.006144</td>\n      <td>-0.122632</td>\n      <td>-0.036529</td>\n      <td>-0.054470</td>\n      <td>-0.041872</td>\n      <td>0.277712</td>\n      <td>-0.105711</td>\n      <td>-0.214065</td>\n      <td>-0.036746</td>\n      <td>0.184139</td>\n      <td>0.042523</td>\n      <td>-0.228121</td>\n      <td>-0.161310</td>\n      <td>0.219773</td>\n      <td>0.158021</td>\n      <td>-0.021790</td>\n      <td>0.040371</td>\n      <td>0.208131</td>\n      <td>0.427999</td>\n      <td>0.007918</td>\n      <td>-0.146033</td>\n      <td>-0.209438</td>\n      <td>-0.122308</td>\n      <td>0.153403</td>\n      <td>-0.022232</td>\n      <td>-0.038322</td>\n      <td>-0.055458</td>\n      <td>0.065093</td>\n      <td>0.090922</td>\n      <td>0.263704</td>\n      <td>-0.141641</td>\n      <td>-0.042187</td>\n      <td>-0.140390</td>\n      <td>-0.321938</td>\n      <td>0.021591</td>\n      <td>-0.097399</td>\n      <td>-0.363187</td>\n      <td>-0.022144</td>\n      <td>-0.037109</td>\n      <td>0.065232</td>\n      <td>0.165710</td>\n      <td>0.179373</td>\n      <td>0.110205</td>\n      <td>-0.118874</td>\n      <td>-0.233280</td>\n      <td>-0.206323</td>\n      <td>-0.375030</td>\n      <td>-0.190047</td>\n      <td>-0.250873</td>\n      <td>-0.239680</td>\n      <td>0.290466</td>\n      <td>0.093810</td>\n      <td>0.125587</td>\n      <td>0.067330</td>\n      <td>-0.101060</td>\n    </tr>\n    <tr>\n      <th>2</th>\n      <td>e3809434d</td>\n      <td>http://static.ehe.osu.edu/sites/beyond/penguin...</td>\n      <td>CC BY-SA 3.0</td>\n      <td>But Mt. Erebus isn’t just a mountain. It is a ...</td>\n      <td>0.851171</td>\n      <td>0.581775</td>\n      <td>But Mt. Erebus isn’t just a mountain. It is a ...</td>\n      <td>22.0</td>\n      <td>193.0</td>\n      <td>8.772727</td>\n      <td>98.0</td>\n      <td>4.454545</td>\n      <td>3.932642</td>\n      <td>227.0</td>\n      <td>1.176166</td>\n      <td>10.318182</td>\n      <td>162.0</td>\n      <td>3.0</td>\n      <td>22.0</td>\n      <td>0.113990</td>\n      <td>6.210372</td>\n      <td>21.0</td>\n      <td>2058.0</td>\n      <td>1.479110</td>\n      <td>3.949905</td>\n      <td>1.710120</td>\n      <td>98.427055</td>\n      <td>20.009812</td>\n      <td>5.238671</td>\n      <td>4.130853</td>\n      <td>4.363636</td>\n      <td>4.636364</td>\n      <td>57</td>\n      <td>1.771930</td>\n      <td>2.590909</td>\n      <td>0.683903</td>\n      <td>0.233945</td>\n      <td>0.045872</td>\n      <td>0.041284</td>\n      <td>0.036697</td>\n      <td>0.050459</td>\n      <td>0.077982</td>\n      <td>0.027523</td>\n      <td>0.018349</td>\n      <td>0.365891</td>\n      <td>-0.011650</td>\n      <td>0.056289</td>\n      <td>0.078862</td>\n      <td>0.224753</td>\n      <td>-0.096525</td>\n      <td>-0.244417</td>\n      <td>0.036426</td>\n      <td>0.366870</td>\n      <td>-0.426471</td>\n      <td>0.010982</td>\n      <td>-0.063869</td>\n      <td>-0.084155</td>\n      <td>-0.157270</td>\n      <td>-0.123685</td>\n      <td>0.127389</td>\n      <td>0.056506</td>\n      <td>-0.107192</td>\n      <td>0.291638</td>\n      <td>-0.090950</td>\n      <td>-0.086227</td>\n      <td>0.288878</td>\n      <td>-0.031010</td>\n      <td>0.041066</td>\n      <td>-0.360577</td>\n      <td>0.238385</td>\n      <td>-0.154710</td>\n      <td>0.020755</td>\n      <td>0.051807</td>\n      <td>0.112174</td>\n      <td>-0.285860</td>\n      <td>-0.042906</td>\n      <td>-0.076016</td>\n      <td>-0.370464</td>\n      <td>0.090288</td>\n      <td>0.031674</td>\n      <td>0.068605</td>\n      <td>0.131565</td>\n      <td>0.112294</td>\n      <td>0.166295</td>\n      <td>-0.180625</td>\n      <td>0.053339</td>\n      <td>-0.159843</td>\n      <td>-0.078930</td>\n      <td>-0.123204</td>\n      <td>-0.024856</td>\n      <td>0.070749</td>\n      <td>0.049945</td>\n      <td>-0.216434</td>\n      <td>-0.045812</td>\n      <td>0.237464</td>\n      <td>0.006052</td>\n      <td>-0.336768</td>\n      <td>-0.134092</td>\n      <td>0.109671</td>\n      <td>0.190486</td>\n      <td>-0.105937</td>\n      <td>0.146102</td>\n      <td>0.155717</td>\n      <td>0.269296</td>\n      <td>0.054597</td>\n      <td>-0.232702</td>\n      <td>-0.143264</td>\n      <td>-0.280687</td>\n      <td>0.128478</td>\n      <td>-0.024227</td>\n      <td>0.025453</td>\n      <td>-0.101295</td>\n      <td>0.202264</td>\n      <td>0.265494</td>\n      <td>0.281896</td>\n      <td>-0.097190</td>\n      <td>0.004418</td>\n      <td>-0.240198</td>\n      <td>-0.153644</td>\n      <td>-0.020549</td>\n      <td>-0.030768</td>\n      <td>-0.305388</td>\n      <td>-0.094053</td>\n      <td>-0.011564</td>\n      <td>0.134951</td>\n      <td>0.259768</td>\n      <td>0.206259</td>\n      <td>0.168463</td>\n      <td>-0.082742</td>\n      <td>-0.326569</td>\n      <td>-0.226700</td>\n      <td>-0.396385</td>\n      <td>-0.153080</td>\n      <td>-0.171135</td>\n      <td>-0.086914</td>\n      <td>0.346505</td>\n      <td>0.100790</td>\n      <td>0.036173</td>\n      <td>0.117055</td>\n      <td>-0.190160</td>\n    </tr>\n    <tr>\n      <th>3</th>\n      <td>6d91d7382</td>\n      <td>NaN</td>\n      <td>NaN</td>\n      <td>The conditions of the problem were finally ful...</td>\n      <td>-2.836401</td>\n      <td>0.561008</td>\n      <td>The conditions of the problem were finally ful...</td>\n      <td>7.0</td>\n      <td>151.0</td>\n      <td>21.571429</td>\n      <td>92.0</td>\n      <td>13.142857</td>\n      <td>4.503311</td>\n      <td>199.0</td>\n      <td>1.317881</td>\n      <td>28.428571</td>\n      <td>118.0</td>\n      <td>13.0</td>\n      <td>26.0</td>\n      <td>0.172185</td>\n      <td>6.131395</td>\n      <td>50.0</td>\n      <td>4600.0</td>\n      <td>10.566310</td>\n      <td>9.306399</td>\n      <td>8.373851</td>\n      <td>73.447285</td>\n      <td>41.493898</td>\n      <td>10.914261</td>\n      <td>12.072280</td>\n      <td>6.714286</td>\n      <td>11.714286</td>\n      <td>41</td>\n      <td>2.292683</td>\n      <td>5.857143</td>\n      <td>0.391434</td>\n      <td>0.289617</td>\n      <td>0.005464</td>\n      <td>0.005464</td>\n      <td>0.065574</td>\n      <td>0.027322</td>\n      <td>0.065574</td>\n      <td>0.032787</td>\n      <td>0.000000</td>\n      <td>0.231056</td>\n      <td>0.126341</td>\n      <td>-0.009531</td>\n      <td>-0.124736</td>\n      <td>0.073496</td>\n      <td>0.070035</td>\n      <td>-0.094607</td>\n      <td>0.147535</td>\n      <td>0.304410</td>\n      <td>-0.234952</td>\n      <td>-0.108157</td>\n      <td>0.114623</td>\n      <td>-0.143367</td>\n      <td>-0.146277</td>\n      <td>-0.064969</td>\n      <td>0.079846</td>\n      <td>-0.020743</td>\n      <td>-0.080799</td>\n      <td>0.247562</td>\n      <td>-0.057434</td>\n      <td>-0.024383</td>\n      <td>-0.041154</td>\n      <td>-0.187308</td>\n      <td>0.027324</td>\n      <td>-0.508988</td>\n      <td>-0.027737</td>\n      <td>-0.017577</td>\n      <td>0.350200</td>\n      <td>-0.093915</td>\n      <td>0.005371</td>\n      <td>-0.304202</td>\n      <td>-0.213588</td>\n      <td>0.109575</td>\n      <td>-0.169578</td>\n      <td>0.429600</td>\n      <td>-0.001851</td>\n      <td>-0.004653</td>\n      <td>-0.125400</td>\n      <td>-0.009815</td>\n      <td>0.188407</td>\n      <td>0.089334</td>\n      <td>-0.048069</td>\n      <td>-0.049600</td>\n      <td>0.231269</td>\n      <td>-0.119463</td>\n      <td>-0.164766</td>\n      <td>0.141736</td>\n      <td>-0.016393</td>\n      <td>-0.209394</td>\n      <td>0.178578</td>\n      <td>0.306553</td>\n      <td>0.185004</td>\n      <td>-0.213244</td>\n      <td>-0.032654</td>\n      <td>0.070559</td>\n      <td>0.059282</td>\n      <td>-0.068000</td>\n      <td>0.002505</td>\n      <td>0.120844</td>\n      <td>0.453902</td>\n      <td>-0.280640</td>\n      <td>-0.223303</td>\n      <td>0.152819</td>\n      <td>-0.220306</td>\n      <td>0.089068</td>\n      <td>-0.055022</td>\n      <td>0.034706</td>\n      <td>-0.168091</td>\n      <td>0.109954</td>\n      <td>0.218576</td>\n      <td>0.202615</td>\n      <td>-0.197762</td>\n      <td>0.102190</td>\n      <td>0.070875</td>\n      <td>-0.198280</td>\n      <td>-0.102559</td>\n      <td>-0.070816</td>\n      <td>-0.248123</td>\n      <td>0.090684</td>\n      <td>-0.048679</td>\n      <td>-0.124879</td>\n      <td>0.261494</td>\n      <td>0.111124</td>\n      <td>0.085356</td>\n      <td>-0.107492</td>\n      <td>-0.186422</td>\n      <td>-0.262101</td>\n      <td>-0.213932</td>\n      <td>-0.281495</td>\n      <td>-0.196071</td>\n      <td>-0.049076</td>\n      <td>0.083756</td>\n      <td>0.353271</td>\n      <td>0.012196</td>\n      <td>0.085388</td>\n      <td>-0.084976</td>\n    </tr>\n    <tr>\n      <th>4</th>\n      <td>71b1c3766</td>\n      <td>NaN</td>\n      <td>NaN</td>\n      <td>Mabel lives on a hill, quite near a beautiful ...</td>\n      <td>0.902661</td>\n      <td>0.528381</td>\n      <td>Mabel lives on a hill, quite near a beautiful ...</td>\n      <td>10.0</td>\n      <td>191.0</td>\n      <td>19.100000</td>\n      <td>108.0</td>\n      <td>10.800000</td>\n      <td>3.649215</td>\n      <td>214.0</td>\n      <td>1.120419</td>\n      <td>21.400000</td>\n      <td>170.0</td>\n      <td>2.0</td>\n      <td>10.0</td>\n      <td>0.052356</td>\n      <td>6.336698</td>\n      <td>42.0</td>\n      <td>4536.0</td>\n      <td>5.307801</td>\n      <td>4.106962</td>\n      <td>5.079942</td>\n      <td>92.661065</td>\n      <td>26.072897</td>\n      <td>5.683918</td>\n      <td>8.058848</td>\n      <td>6.666667</td>\n      <td>10.222222</td>\n      <td>52</td>\n      <td>1.846154</td>\n      <td>5.200000</td>\n      <td>0.355030</td>\n      <td>0.162162</td>\n      <td>0.018018</td>\n      <td>0.090090</td>\n      <td>0.072072</td>\n      <td>0.049550</td>\n      <td>0.135135</td>\n      <td>0.036036</td>\n      <td>0.022523</td>\n      <td>0.200625</td>\n      <td>-0.049676</td>\n      <td>-0.048101</td>\n      <td>-0.114461</td>\n      <td>0.218337</td>\n      <td>0.042613</td>\n      <td>-0.126933</td>\n      <td>0.029157</td>\n      <td>0.340073</td>\n      <td>-0.254878</td>\n      <td>-0.010368</td>\n      <td>-0.038907</td>\n      <td>-0.119987</td>\n      <td>-0.081938</td>\n      <td>-0.211047</td>\n      <td>0.072040</td>\n      <td>-0.038104</td>\n      <td>-0.133405</td>\n      <td>0.104924</td>\n      <td>-0.095963</td>\n      <td>-0.143242</td>\n      <td>0.148534</td>\n      <td>0.033325</td>\n      <td>-0.132498</td>\n      <td>-0.386965</td>\n      <td>-0.007824</td>\n      <td>-0.193695</td>\n      <td>0.190702</td>\n      <td>0.079824</td>\n      <td>0.336794</td>\n      <td>-0.208567</td>\n      <td>0.009495</td>\n      <td>0.136907</td>\n      <td>-0.340653</td>\n      <td>0.375739</td>\n      <td>-0.037450</td>\n      <td>0.272780</td>\n      <td>-0.006450</td>\n      <td>0.183592</td>\n      <td>0.263828</td>\n      <td>0.018735</td>\n      <td>-0.107039</td>\n      <td>0.123045</td>\n      <td>0.034138</td>\n      <td>-0.105934</td>\n      <td>-0.139445</td>\n      <td>-0.036712</td>\n      <td>-0.123828</td>\n      <td>-0.182063</td>\n      <td>-0.071576</td>\n      <td>0.199366</td>\n      <td>0.144151</td>\n      <td>-0.285756</td>\n      <td>-0.087352</td>\n      <td>-0.054137</td>\n      <td>0.076882</td>\n      <td>0.047244</td>\n      <td>0.036853</td>\n      <td>0.126270</td>\n      <td>0.212638</td>\n      <td>-0.052323</td>\n      <td>-0.106855</td>\n      <td>-0.141981</td>\n      <td>-0.038321</td>\n      <td>0.263139</td>\n      <td>0.018647</td>\n      <td>-0.108964</td>\n      <td>-0.255293</td>\n      <td>0.030264</td>\n      <td>0.275071</td>\n      <td>0.273157</td>\n      <td>-0.122822</td>\n      <td>0.044102</td>\n      <td>-0.198115</td>\n      <td>-0.180769</td>\n      <td>-0.048342</td>\n      <td>-0.094137</td>\n      <td>-0.256721</td>\n      <td>0.084433</td>\n      <td>-0.028439</td>\n      <td>-0.003228</td>\n      <td>0.267733</td>\n      <td>0.029012</td>\n      <td>0.047910</td>\n      <td>-0.135070</td>\n      <td>-0.117445</td>\n      <td>-0.149736</td>\n      <td>-0.245169</td>\n      <td>-0.088391</td>\n      <td>-0.122123</td>\n      <td>-0.081369</td>\n      <td>0.114829</td>\n      <td>0.146133</td>\n      <td>0.117382</td>\n      <td>0.102723</td>\n      <td>-0.148250</td>\n    </tr>\n  </tbody>\n</table>\n</div>"
     },
     "metadata": {},
     "execution_count": 103
    }
   ],
   "source": [
    "df = pd.read_csv('../data/interim/sample_fe.csv')\n",
    "df.head()"
   ]
  },
  {
   "cell_type": "code",
   "execution_count": 107,
   "metadata": {},
   "outputs": [
    {
     "output_type": "execute_result",
     "data": {
      "text/plain": [
       "'Mabel lives on a hill, quite near a beautiful lake, and is very fond of going with her papa to take a row on the water. Sometimes they visit the woods on the other side of the lake, and pick wild flowers, or go where the water-lilies grow, near the shore, and gather a bunch of the pretty white blossoms.\\nBut I must tell about Mabel\\'s friend Carlo. He is a large shaggy dog, owned by a gentleman who lives near. Although quite a young dog, he knows a great deal. He is very fond of water, and is wild with delight at the prospect of a swim.\\nHis master owns a large sail-boat, and, as the water near the shore is not deep, he has to use a small boat to reach it. When Carlo sees him take down the oar from its place in the yard, he runs up, and takes it in his mouth, as much as to say, \"Let me carry that for you, master.\" Then he trots down the hill with the oar, feeling very proud that he is allowed to carry it.'"
      ]
     },
     "metadata": {},
     "execution_count": 107
    }
   ],
   "source": [
    "df.loc[4]['excerpt']"
   ]
  },
  {
   "cell_type": "code",
   "execution_count": 102,
   "metadata": {},
   "outputs": [
    {
     "output_type": "execute_result",
     "data": {
      "text/plain": [
       "54"
      ]
     },
     "metadata": {},
     "execution_count": 102
    }
   ],
   "source": [
    "doc = nlp(df.loc[3]['preprocessed_excerpt'])\n",
    "len(list(doc.sents))\n",
    "\n",
    "max([len(sent) for sent in list(doc.sents)])"
   ]
  },
  {
   "cell_type": "code",
   "execution_count": 83,
   "metadata": {},
   "outputs": [
    {
     "output_type": "execute_result",
     "data": {
      "text/plain": [
       "8"
      ]
     },
     "metadata": {},
     "execution_count": 83
    }
   ],
   "source": [
    "from cytoolz import itertoolz\n",
    "SENTENCIZER = spacy.pipeline.Sentencizer()\n",
    "doc = SENTENCIZER(doc)\n",
    "itertoolz.count(doc.sents)\n"
   ]
  }
 ]
}