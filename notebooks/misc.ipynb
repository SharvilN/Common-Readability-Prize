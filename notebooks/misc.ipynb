{
 "metadata": {
  "language_info": {
   "codemirror_mode": {
    "name": "ipython",
    "version": 3
   },
   "file_extension": ".py",
   "mimetype": "text/x-python",
   "name": "python",
   "nbconvert_exporter": "python",
   "pygments_lexer": "ipython3",
   "version": "3.8.5"
  },
  "orig_nbformat": 2,
  "kernelspec": {
   "name": "python385jvsc74a57bd056116502312553628b202ef6fd47dd20ec7eb783a187db0ebe9f199a939a6d26",
   "display_name": "Python 3.8.5 64-bit ('kaggle': conda)"
  }
 },
 "nbformat": 4,
 "nbformat_minor": 2,
 "cells": [
  {
   "cell_type": "code",
   "execution_count": 3,
   "metadata": {},
   "outputs": [
    {
     "output_type": "execute_result",
     "data": {
      "text/plain": [
       "   Unnamed: 0         id url_legal license  \\\n",
       "0           0  c12129c31       NaN     NaN   \n",
       "1           1  85aa80a4c       NaN     NaN   \n",
       "2           2  b69ac6792       NaN     NaN   \n",
       "3           3  dd1000b26       NaN     NaN   \n",
       "4           4  37c1b32fb       NaN     NaN   \n",
       "\n",
       "                                             excerpt    target  \\\n",
       "0  When the young people returned to the ballroom... -0.340259   \n",
       "1  All through dinner time, Mrs. Fayre was somewh... -0.315372   \n",
       "2  As Roger had predicted, the snow departed as q... -0.580118   \n",
       "3  And outside before the palace a great garden w... -1.054013   \n",
       "4  Once upon a time there were Three Bears who li...  0.247197   \n",
       "\n",
       "   standard_error  feature_senlen  feature_numnp  feature_numpp  ...  \\\n",
       "0        0.464009       14.200000       4.200000       1.333333  ...   \n",
       "1        0.480805       12.000000       3.000000       0.631579  ...   \n",
       "2        0.476676       16.769231       4.384615       1.153846  ...   \n",
       "3        0.450007       33.500000      10.333333       3.500000  ...   \n",
       "4        0.510845       36.600000      12.400000       3.600000  ...   \n",
       "\n",
       "   feature_num_WP$  feature_num_WRB  feature_num_XX  \\\n",
       "0                0                1               0   \n",
       "1                0                2               0   \n",
       "2                0                0               0   \n",
       "3                0                0               0   \n",
       "4                0                0               0   \n",
       "\n",
       "   feature_rs_sqrt_polysyllable/sents  feature_rs_sents/words  \\\n",
       "0                            0.683130                0.082873   \n",
       "1                            0.606977                0.110465   \n",
       "2                            0.480384                0.075581   \n",
       "3                            0.577350                0.035928   \n",
       "4                            0.447214                0.033113   \n",
       "\n",
       "   feature_rs_syllables/words  feature_rs_chars/words  feature_rs_long/words  \\\n",
       "0                    1.187845                4.348066               0.165746   \n",
       "1                    1.238372                4.174419               0.151163   \n",
       "2                    1.162791                4.075581               0.145349   \n",
       "3                    1.113772                4.269461               0.131737   \n",
       "4                    1.026490                3.609272               0.013245   \n",
       "\n",
       "   feature_rs_polysyllable/words  feature_rs_monosyllable/words  \n",
       "0                       0.038674                       0.850829  \n",
       "1                       0.040698                       0.808140  \n",
       "2                       0.017442                       0.854651  \n",
       "3                       0.011976                       0.898204  \n",
       "4                       0.006623                       0.980132  \n",
       "\n",
       "[5 rows x 101 columns]"
      ],
      "text/html": "<div>\n<style scoped>\n    .dataframe tbody tr th:only-of-type {\n        vertical-align: middle;\n    }\n\n    .dataframe tbody tr th {\n        vertical-align: top;\n    }\n\n    .dataframe thead th {\n        text-align: right;\n    }\n</style>\n<table border=\"1\" class=\"dataframe\">\n  <thead>\n    <tr style=\"text-align: right;\">\n      <th></th>\n      <th>Unnamed: 0</th>\n      <th>id</th>\n      <th>url_legal</th>\n      <th>license</th>\n      <th>excerpt</th>\n      <th>target</th>\n      <th>standard_error</th>\n      <th>feature_senlen</th>\n      <th>feature_numnp</th>\n      <th>feature_numpp</th>\n      <th>...</th>\n      <th>feature_num_WP$</th>\n      <th>feature_num_WRB</th>\n      <th>feature_num_XX</th>\n      <th>feature_rs_sqrt_polysyllable/sents</th>\n      <th>feature_rs_sents/words</th>\n      <th>feature_rs_syllables/words</th>\n      <th>feature_rs_chars/words</th>\n      <th>feature_rs_long/words</th>\n      <th>feature_rs_polysyllable/words</th>\n      <th>feature_rs_monosyllable/words</th>\n    </tr>\n  </thead>\n  <tbody>\n    <tr>\n      <th>0</th>\n      <td>0</td>\n      <td>c12129c31</td>\n      <td>NaN</td>\n      <td>NaN</td>\n      <td>When the young people returned to the ballroom...</td>\n      <td>-0.340259</td>\n      <td>0.464009</td>\n      <td>14.200000</td>\n      <td>4.200000</td>\n      <td>1.333333</td>\n      <td>...</td>\n      <td>0</td>\n      <td>1</td>\n      <td>0</td>\n      <td>0.683130</td>\n      <td>0.082873</td>\n      <td>1.187845</td>\n      <td>4.348066</td>\n      <td>0.165746</td>\n      <td>0.038674</td>\n      <td>0.850829</td>\n    </tr>\n    <tr>\n      <th>1</th>\n      <td>1</td>\n      <td>85aa80a4c</td>\n      <td>NaN</td>\n      <td>NaN</td>\n      <td>All through dinner time, Mrs. Fayre was somewh...</td>\n      <td>-0.315372</td>\n      <td>0.480805</td>\n      <td>12.000000</td>\n      <td>3.000000</td>\n      <td>0.631579</td>\n      <td>...</td>\n      <td>0</td>\n      <td>2</td>\n      <td>0</td>\n      <td>0.606977</td>\n      <td>0.110465</td>\n      <td>1.238372</td>\n      <td>4.174419</td>\n      <td>0.151163</td>\n      <td>0.040698</td>\n      <td>0.808140</td>\n    </tr>\n    <tr>\n      <th>2</th>\n      <td>2</td>\n      <td>b69ac6792</td>\n      <td>NaN</td>\n      <td>NaN</td>\n      <td>As Roger had predicted, the snow departed as q...</td>\n      <td>-0.580118</td>\n      <td>0.476676</td>\n      <td>16.769231</td>\n      <td>4.384615</td>\n      <td>1.153846</td>\n      <td>...</td>\n      <td>0</td>\n      <td>0</td>\n      <td>0</td>\n      <td>0.480384</td>\n      <td>0.075581</td>\n      <td>1.162791</td>\n      <td>4.075581</td>\n      <td>0.145349</td>\n      <td>0.017442</td>\n      <td>0.854651</td>\n    </tr>\n    <tr>\n      <th>3</th>\n      <td>3</td>\n      <td>dd1000b26</td>\n      <td>NaN</td>\n      <td>NaN</td>\n      <td>And outside before the palace a great garden w...</td>\n      <td>-1.054013</td>\n      <td>0.450007</td>\n      <td>33.500000</td>\n      <td>10.333333</td>\n      <td>3.500000</td>\n      <td>...</td>\n      <td>0</td>\n      <td>0</td>\n      <td>0</td>\n      <td>0.577350</td>\n      <td>0.035928</td>\n      <td>1.113772</td>\n      <td>4.269461</td>\n      <td>0.131737</td>\n      <td>0.011976</td>\n      <td>0.898204</td>\n    </tr>\n    <tr>\n      <th>4</th>\n      <td>4</td>\n      <td>37c1b32fb</td>\n      <td>NaN</td>\n      <td>NaN</td>\n      <td>Once upon a time there were Three Bears who li...</td>\n      <td>0.247197</td>\n      <td>0.510845</td>\n      <td>36.600000</td>\n      <td>12.400000</td>\n      <td>3.600000</td>\n      <td>...</td>\n      <td>0</td>\n      <td>0</td>\n      <td>0</td>\n      <td>0.447214</td>\n      <td>0.033113</td>\n      <td>1.026490</td>\n      <td>3.609272</td>\n      <td>0.013245</td>\n      <td>0.006623</td>\n      <td>0.980132</td>\n    </tr>\n  </tbody>\n</table>\n<p>5 rows × 101 columns</p>\n</div>"
     },
     "metadata": {},
     "execution_count": 3
    }
   ],
   "source": [
    "import pandas as pd\n",
    "import spacy\n",
    "nlp = spacy.load('en_core_web_lg')\n",
    "\n",
    "df = pd.read_csv('../data/interim/text_features.csv')\n",
    "df.head()"
   ]
  },
  {
   "cell_type": "code",
   "execution_count": 4,
   "metadata": {},
   "outputs": [
    {
     "output_type": "error",
     "ename": "NameError",
     "evalue": "name 'cross_validation' is not defined",
     "traceback": [
      "\u001b[0;31m---------------------------------------------------------------------------\u001b[0m",
      "\u001b[0;31mNameError\u001b[0m                                 Traceback (most recent call last)",
      "\u001b[0;32m<ipython-input-4-9c77992cd9e7>\u001b[0m in \u001b[0;36m<module>\u001b[0;34m\u001b[0m\n\u001b[1;32m      2\u001b[0m \u001b[0mdf\u001b[0m \u001b[0;34m=\u001b[0m \u001b[0mdf\u001b[0m\u001b[0;34m.\u001b[0m\u001b[0mdrop\u001b[0m\u001b[0;34m(\u001b[0m\u001b[0mcols_to_drop\u001b[0m\u001b[0;34m,\u001b[0m \u001b[0maxis\u001b[0m\u001b[0;34m=\u001b[0m\u001b[0;36m1\u001b[0m\u001b[0;34m)\u001b[0m\u001b[0;34m\u001b[0m\u001b[0;34m\u001b[0m\u001b[0m\n\u001b[1;32m      3\u001b[0m \u001b[0;34m\u001b[0m\u001b[0m\n\u001b[0;32m----> 4\u001b[0;31m \u001b[0mcv\u001b[0m \u001b[0;34m=\u001b[0m \u001b[0mcross_validation\u001b[0m\u001b[0;34m.\u001b[0m\u001b[0mCrossValidation\u001b[0m\u001b[0;34m(\u001b[0m\u001b[0mdf\u001b[0m\u001b[0;34m,\u001b[0m \u001b[0;34m[\u001b[0m\u001b[0;34m'target'\u001b[0m\u001b[0;34m]\u001b[0m\u001b[0;34m,\u001b[0m \u001b[0mproblem_type\u001b[0m\u001b[0;34m=\u001b[0m\u001b[0;34m'single_col_regression'\u001b[0m\u001b[0;34m,\u001b[0m \u001b[0mshuffle\u001b[0m\u001b[0;34m=\u001b[0m\u001b[0;32mTrue\u001b[0m\u001b[0;34m)\u001b[0m\u001b[0;34m\u001b[0m\u001b[0;34m\u001b[0m\u001b[0m\n\u001b[0m\u001b[1;32m      5\u001b[0m \u001b[0mdf_split\u001b[0m \u001b[0;34m=\u001b[0m \u001b[0mcv\u001b[0m\u001b[0;34m.\u001b[0m\u001b[0msplit\u001b[0m\u001b[0;34m(\u001b[0m\u001b[0;34m)\u001b[0m\u001b[0;34m\u001b[0m\u001b[0;34m\u001b[0m\u001b[0m\n\u001b[1;32m      6\u001b[0m \u001b[0mdf_split\u001b[0m\u001b[0;34m.\u001b[0m\u001b[0mhead\u001b[0m\u001b[0;34m(\u001b[0m\u001b[0;34m)\u001b[0m\u001b[0;34m\u001b[0m\u001b[0;34m\u001b[0m\u001b[0m\n",
      "\u001b[0;31mNameError\u001b[0m: name 'cross_validation' is not defined"
     ]
    }
   ],
   "source": [
    "cols_to_drop = ['Unnamed: 0', 'id', 'url_legal', 'license', 'excerpt']\n",
    "df = df.drop(cols_to_drop, axis=1)\n",
    "\n",
    "cv = cross_validation.CrossValidation(df, ['target'], problem_type='single_col_regression', shuffle=True)\n",
    "df_split = cv.split()\n",
    "df_split.head()\n"
   ]
  }
 ]
}