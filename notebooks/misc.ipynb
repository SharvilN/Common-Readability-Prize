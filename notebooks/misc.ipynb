{
 "metadata": {
  "language_info": {
   "codemirror_mode": {
    "name": "ipython",
    "version": 3
   },
   "file_extension": ".py",
   "mimetype": "text/x-python",
   "name": "python",
   "nbconvert_exporter": "python",
   "pygments_lexer": "ipython3",
   "version": "3.8.5"
  },
  "orig_nbformat": 2,
  "kernelspec": {
   "name": "python385jvsc74a57bd056116502312553628b202ef6fd47dd20ec7eb783a187db0ebe9f199a939a6d26",
   "display_name": "Python 3.8.5 64-bit ('kaggle': conda)"
  }
 },
 "nbformat": 4,
 "nbformat_minor": 2,
 "cells": [
  {
   "cell_type": "code",
   "execution_count": 22,
   "metadata": {},
   "outputs": [
    {
     "output_type": "execute_result",
     "data": {
      "text/plain": [
       "      Unnamed: 0         id                            url_legal  \\\n",
       "2064        2064  674bd8368  https://en.wikipedia.org/wiki/Celts   \n",
       "\n",
       "           license                                            excerpt  \\\n",
       "2064  CC BY-SA 3.0  The Celts were people in Iron Age and Medieval...   \n",
       "\n",
       "        target  standard_error  n_sents  n_words  n_words_per_sent  ...  \\\n",
       "2064 -1.277544         0.48251      6.0    160.0         26.666667  ...   \n",
       "\n",
       "      spacy_291  spacy_292  spacy_293  spacy_294  spacy_295  spacy_296  \\\n",
       "2064   0.006901  -0.039258  -0.047539  -0.043168   0.126839   -0.07891   \n",
       "\n",
       "      spacy_297  spacy_298  spacy_299  kfold  \n",
       "2064  -0.001634  -0.036721   0.044427      3  \n",
       "\n",
       "[1 rows x 343 columns]"
      ],
      "text/html": "<div>\n<style scoped>\n    .dataframe tbody tr th:only-of-type {\n        vertical-align: middle;\n    }\n\n    .dataframe tbody tr th {\n        vertical-align: top;\n    }\n\n    .dataframe thead th {\n        text-align: right;\n    }\n</style>\n<table border=\"1\" class=\"dataframe\">\n  <thead>\n    <tr style=\"text-align: right;\">\n      <th></th>\n      <th>Unnamed: 0</th>\n      <th>id</th>\n      <th>url_legal</th>\n      <th>license</th>\n      <th>excerpt</th>\n      <th>target</th>\n      <th>standard_error</th>\n      <th>n_sents</th>\n      <th>n_words</th>\n      <th>n_words_per_sent</th>\n      <th>...</th>\n      <th>spacy_291</th>\n      <th>spacy_292</th>\n      <th>spacy_293</th>\n      <th>spacy_294</th>\n      <th>spacy_295</th>\n      <th>spacy_296</th>\n      <th>spacy_297</th>\n      <th>spacy_298</th>\n      <th>spacy_299</th>\n      <th>kfold</th>\n    </tr>\n  </thead>\n  <tbody>\n    <tr>\n      <th>2064</th>\n      <td>2064</td>\n      <td>674bd8368</td>\n      <td>https://en.wikipedia.org/wiki/Celts</td>\n      <td>CC BY-SA 3.0</td>\n      <td>The Celts were people in Iron Age and Medieval...</td>\n      <td>-1.277544</td>\n      <td>0.48251</td>\n      <td>6.0</td>\n      <td>160.0</td>\n      <td>26.666667</td>\n      <td>...</td>\n      <td>0.006901</td>\n      <td>-0.039258</td>\n      <td>-0.047539</td>\n      <td>-0.043168</td>\n      <td>0.126839</td>\n      <td>-0.07891</td>\n      <td>-0.001634</td>\n      <td>-0.036721</td>\n      <td>0.044427</td>\n      <td>3</td>\n    </tr>\n  </tbody>\n</table>\n<p>1 rows × 343 columns</p>\n</div>"
     },
     "metadata": {},
     "execution_count": 22
    }
   ],
   "source": [
    "import pandas as pd\n",
    "import spacy\n",
    "\n",
    "df = pd.read_csv('../data/processed/non-nn-processed-v1-folds.csv')\n",
    "df.sample(1)"
   ]
  },
  {
   "cell_type": "code",
   "execution_count": null,
   "metadata": {},
   "outputs": [],
   "source": []
  }
 ]
}